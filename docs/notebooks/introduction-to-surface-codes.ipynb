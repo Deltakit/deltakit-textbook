{
 "cells": [
  {
   "cell_type": "markdown",
   "id": "ca693969",
   "metadata": {},
   "source": [
    "# Introduction to surface codes"
   ]
  },
  {
   "cell_type": "markdown",
   "id": "9fafe6b5",
   "metadata": {},
   "source": [
    "So far, we have convinced ourselves about the necessity of protecting the qubits\n",
    "from both bit-flip and phase-flip errors, and demonstrated this protection using one-dimensional (1D) repetition codes.\n",
    "\n",
    "Surface codes belong to a family of error-correcting codes which store and protect quantum information in the geometry of surfaces. They are embedded in a 2D nearest-neighbor\n",
    "grid. Unlike repetition codes which only have one type of stabilizer at a time, surface codes have **both** X-type ($X\\otimes X\\otimes X\\otimes X$) and Z-type ($Z\\otimes Z\\otimes Z\\otimes Z$) stabilizers in the grid.\n",
    "\n",
    "Similar to repetition codes, the logical state is encoded across a set of physical data qubits (which are the physical qubits) in the grid. The qubits that check the parities of the\n",
    "stabilizers are known as the ancilla qubits (or measurement qubits). \n",
    "\n",
    "Surface codes were inspired by the work of Kitaev. Initially, Kitaev (ref [1]) proposed the toric codes where the qubits were laid out on a torus (donut). However, the periodic boundary conditions of the torus make the hardware implementation of such a code challenging. As a historical aside, it is important to note that the original toric code encoded two logical qubits, whereas the surface code encodes one logical qubit.\n",
    "\n",
    "The planar surface code is obtained from the toric code by removing the periodic boundary conditions. You will also see the planar surface represented as a $[[(d^{2}+(d-1)^{2}),1,d]]$ code in the literature because a distance-$d$ surface code encodes 1 logical qubit using $d^{2}+(d-1)^{2}$ physical qubits. In the coming chapters, we will learn exactly what these parameters mean.\n",
    "\n",
    "In the next few chapters we will consider the planar surface code, and construct a threshold plot from scratch.\n",
    "\n",
    "### References\n",
    "1. Kitaev, Fault‑tolerant quantum computation by anyons (1997). arXiv:quant‑ph/9707021.\n",
    "2. Dennis, Kitaev, Landahl, Preskill, Topological quantum memory (2002). arXiv:quant‑ph/0110143.\n",
    "3. Bravyi & Kitaev, Quantum codes on a lattice with boundary (1998). arXiv:quant‑ph/9811052.\n",
    "4. Calderbank & Shor, Good quantum error-correcting codes exist (1996). arXiv:9512032.\n",
    "5. Steane, Multiple particle interference and quantum error correction (1995). arXiv:9601029.\n",
    "6. Fowler et al., Surface codes: Towards practical large‑scale quantum computation (2012). arXiv:1208.0928."
   ]
  }
 ],
 "metadata": {
  "kernelspec": {
   "display_name": "deltakit-textbook",
   "language": "python",
   "name": "deltakit-textbook"
  },
  "language_info": {
   "codemirror_mode": {
    "name": "ipython",
    "version": 3
   },
   "file_extension": ".py",
   "mimetype": "text/x-python",
   "name": "python",
   "nbconvert_exporter": "python",
   "pygments_lexer": "ipython3",
   "version": "3.13.7"
  }
 },
 "nbformat": 4,
 "nbformat_minor": 5
}
