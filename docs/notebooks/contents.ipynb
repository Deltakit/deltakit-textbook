{
 "cells": [
  {
   "cell_type": "markdown",
   "id": "291c1574-8dbc-4f8e-a126-f8222818dc04",
   "metadata": {},
   "source": [
    "# Deltakit Textbook\n",
    "Welcome! The Deltakit Textbook aims to be a hands-on introduction to quantum error correction concepts coupled with practical examples for exploring error-correcting codes. Written by the __[Riverlane](https://riverlane.com)__ team and friends.\n",
    "\n",
    "![](images/cover1.png)\n"
   ]
  },
  {
   "cell_type": "markdown",
   "id": "b7a81886-bdc0-4e28-a57c-08e5eded8c3c",
   "metadata": {},
   "source": [
    "## Contents\n",
    "\n",
    "### __Developing intuition for quantum error correction__\n",
    "<ul>\n",
    "  <li>Motivation for quantum error correction</li>\n",
    "  <li><a href=\"classical-intuition.html\">Lessons from classical error correction</a></li>\n",
    "  <li>Majority vote vs parity checks</li>\n",
    "</ul>\n",
    "\n",
    "### __From classical to quantum repetition codes__\n",
    "<ul>\n",
    "  <li><a href=\"correctable-errors.html\">Correctable errors</a></li>\n",
    "  <li><a href=\"bit-flip-repetition-codes.html\">Building the bit-flip quantum repetition code from scratch</a></li>\n",
    "  <li><a href=\"phase-flip-repetition-codes.html\">Retooling the bit-flip quantum repetition code to handle phase errors</a></li>\n",
    "  <li><a href=\"shor-code.html\">Combining bit-flip and phase-flip repetition codes: Shor's 9-qubit code</a></li>\n",
    "</ul>\n",
    "\n",
    "### __From repetition codes to surface codes__\n",
    "<ul>\n",
    "  <li>Introduction to surface codes</li>\n",
    "    <li>Layout of unrotated surface code with stabilizers</li>\n",
    "    <li>Syndrome extraction cycle with noise and logical operators</li>\n",
    "    <li>Overview of the QEC cycle and introduction to Stim</li>\n",
    "</ul>\n",
    "\n",
    "### __Decoding surface codes__\n",
    "<ul>\n",
    "  <li>Introduction to minimum weight perfect matching</li>\n",
    "  <li>Threshold theorem</li>\n",
    "  <li>Simulating surface code in stim</li>\n",
    "</ul>"
   ]
  }
 ],
 "metadata": {
  "kernelspec": {
   "display_name": "Python 3 (ipykernel)",
   "language": "python",
   "name": "python3"
  },
  "language_info": {
   "codemirror_mode": {
    "name": "ipython",
    "version": 3
   },
   "file_extension": ".py",
   "mimetype": "text/x-python",
   "name": "python",
   "nbconvert_exporter": "python",
   "pygments_lexer": "ipython3",
   "version": "3.13.5"
  },
  "nteract": {
   "version": "0.28.0"
  }
 },
 "nbformat": 4,
 "nbformat_minor": 5
}
