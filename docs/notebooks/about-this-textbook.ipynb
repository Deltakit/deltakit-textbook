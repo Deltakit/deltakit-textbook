{
 "cells": [
  {
   "cell_type": "markdown",
   "id": "5deac2c6-cce7-4332-9116-10376eae0805",
   "metadata": {},
   "source": [
    "# About this textbook\n",
    "\n",
    "The Deltakit Textbook is a hands-on introduction to Quantum Error Correction (QEC) concepts.\n",
    "\n",
    "Quantum error correction (QEC) is a key ingredient that is necessary for unlocking the full potential of quantum computers. To build large-scale error-corrected quantum computers with hundreds to thousands of logical qubits running millions to billions of operations, we will need the participation of experts across various disciplines, and they will all need to upskill in QEC. Today, QEC talent is rare, and is the most commonly reported challenge as quantum computing teams begin their journeys toward fault tolerance.\n",
    "\n",
    "This textbook aims to bridge the gap between __the understanding__ of QEC and __the practice__ of QEC. The core principles for the textbook are:\n",
    "- **Hands-on** to encourage experimentation with QEC, and enable the learner to reproduce recent research results using state-of-the-art QEC tools,\n",
    "- **Detailed**, showing every step at first before using an advanced QEC tool that hides all the details, so that learners understand the nuances of QEC,\n",
    "- **Interactive**, so that readers can experiment while reading the textbook,\n",
    "- **Open-source**, so that QEC experts can enable QEC learners by contributing modern QEC concepts to the textbook.\n",
    "\n",
    "## Prerequisites\n",
    "\n",
    "The pedagogy in the textbook assumes that a reader is familiar with quantum states, gates, circuits, and measurements. We also assume familiarity with the matrix manipulation associated with quantum circuits, and the matrices for the Pauli gates.\n",
    "\n",
    "The code in the textbook is largely written using Python. To build and run circuits, we use `Cirq` for the introductory sections where we show all details. Familiarity with `Cirq` will be quite useful, although the code is very readable and can be picked up along the way. Then, we use `stim` and `Deltakit` once we progress to more advanced concepts after demonstrating the details earlier in `Cirq`. We have specifically chosen `Cirq` due to its compatibility with `stim` through `stimcirq`, but learners can easily adapt the examples to other tools such as `Qiskit` and connect with `stim` through `OpenQASM`.\n",
    "\n",
    "## How to best use this textbook for self-learning\n",
    "\n",
    "There are several places where one can obtain a deep understanding of QEC concepts. However, fully detailed implementation of the quantum circuits in QEC is not widely available. For this reason, this hands-on textbook is best used as a supplement to another textbook that provides grounding in the principles of QEC. Some recommended resources:\n",
    "\n",
    "- Dan Browne's [Lectures on Topological Codes and Quantum Computation](https://sites.google.com/site/danbrowneucl/teaching/lectures-on-topological-codes-and-quantum-computation)\n",
    "- John Preskill's [Ph219 lecture notes](https://www.preskill.caltech.edu/ph219/) (particularly Chapter 7)\n",
    "- Daniel Gottesman's [PhD dissertation on Stabilizer Codes and Quantum Error Correction](https://arxiv.org/pdf/quant-ph/9705052)\n",
    "\n",
    "## How to best use this textbook in a quantum computing course\n",
    "\n",
    "The first few weeks of a typical first quantum computing course cover concepts such as qubits and quantum states, gates, measurements, quantum circuits, and circuit identities. Then, the coursework typically branches toward various directions -- for example, sometimes they continue toward extensive discussion of quantum algorithms, or focus on surveying the physics of quantum devices and systems.\n",
    "\n",
    "The content in this textbook is designed to address the gap between QEC theory and QEC practice. For this reason, it can be used as another branch after the first few weeks of a first quantum computing course, assuming that it is coupled with one of the resources mentioned above.\n",
    "\n",
    "## Contributing to the textbook\n",
    "\n",
    "Anyone is welcome to contribute to the textbook! We encourage you to take a look at the list of desired topics in [the README on Github](https://github.com/Deltakit/deltakit-textbook). Contributions will be reviewed for clarity and fit -- we encourage creating an issue tagged as a contribution to discuss the parameters of the contribution before spending the time creating it. All contributors will be credited in the contributors list of the Deltakit Textbook."
   ]
  },
  {
   "cell_type": "code",
   "execution_count": null,
   "id": "1d9c487e-67fd-4da4-8f0f-d7b9944507da",
   "metadata": {},
   "outputs": [],
   "source": []
  }
 ],
 "metadata": {
  "kernelspec": {
   "display_name": "Python 3 (ipykernel)",
   "language": "python",
   "name": "python3"
  },
  "language_info": {
   "codemirror_mode": {
    "name": "ipython",
    "version": 3
   },
   "file_extension": ".py",
   "mimetype": "text/x-python",
   "name": "python",
   "nbconvert_exporter": "python",
   "pygments_lexer": "ipython3",
   "version": "3.13.5"
  }
 },
 "nbformat": 4,
 "nbformat_minor": 5
}
