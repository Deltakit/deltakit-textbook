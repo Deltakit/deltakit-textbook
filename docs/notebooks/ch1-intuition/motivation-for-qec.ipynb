{
 "cells": [
  {
   "cell_type": "markdown",
   "id": "5deac2c6-cce7-4332-9116-10376eae0805",
   "metadata": {},
   "source": [
    "# <font color='green'>Motivation for quantum error correction</font>\n",
    "\n",
    "This textbook gives a hands-on introduction to concepts in quantum error correction (QEC). But why bother about QEC in the first place, and why hands-on?\n",
    "\n",
    "The answer is quite simple.\n",
    "\n",
    "Resource estimates of quantum algorithms that are expected to provide significant advantage over their classical counterparts -- factoring at cryptographic scales, quantum chemistry for catalysis and materials, and physics simulations -- all point to **billions to tens of billions** of logical operations for a successful computation. That implies logical errors per operation on the order of 1 part in $10^{10}$ or better -- without this, we will never be able to run billions of operations successfully. For example, RSA-2048 factoring in the abstract circuit model requires roughly $3\\times10^9$ operations before error-correction overheads. Modern quantum chemistry (e.g., qubitization and tensor hypercontraction) compiles FeMoco simulations to billions of logical operations running for several days on multi-million-qubit surface-code machines (see refs [7–8]).\n",
    "\n",
    "By contrast, the best quantum systems today typically achieve best-in-class **two-qubit** error rates (which are typically the limiting errors) between 1 part in $10^4$ and 1 part in $10^3$, depending on the qubit architecture and operating conditions (see refs [1-6]). These error rates are typically referred to as \"three nines\" ($99.9\\%$) to mean an error of $0.1\\%$ or \"four nines\" ($99.99\\%$) to mean an error of 0.01%.\n",
    "\n",
    "QEC is the bridge between these regimes -- taking us from error rates of order 1 in 10,000 to error rates of order 1 in 10 billion. This is a gap with 6 orders of magnitude.\n",
    "\n",
    "QEC is able to fill this gap because it converts _incremental_ hardware improvements into _exponential_ reductions in error. Later in this textbook, you will learn the concept of code distance. For now, it suffices to think of it as the level of repetition or redundancy needed for error correction. For distance-$d$ codes, a useful heuristic is \n",
    "\n",
    "$$\n",
    "p_L \\sim (c p)^{(d+1)/2}\n",
    "$$\n",
    "\n",
    "where $p_L$ is the logical probability of error with QEC enabled, $p$ is the probability of error without error correction, and $c$ is a constant due to the overhead of QEC. This scaling means reducing $p$ by a factor of two can yield _orders of magnitude_ of logical suppression at larger code distances $d$. In this way, QEC is the lever that turns today's $\\sim10^{-3}-10^{-4}$ two-qubit errors into the $10^{-10}$ logical error-per-operation needed for long, valuable quantum programs.\n",
    "\n",
    "# <font color='green'>Implementing quantum error correction in practice</font>\n",
    "\n",
    "There is a significant difference between _understanding_ QEC and _doing_ QEC. Some of the key concepts in QEC -- stabilizers, syndromes, and decoders -- can be understood entirely with pencil-and-paper algebra. But _implementing_ QEC on devices requires understanding the quantum circuits in detail: where ancillas live, how checks are pipelined, _latency_ of feed-forward, _throughput_ of readout, control-system timing budgets, and architectural constraints (coupling maps, crosstalk, calibration cadence). This textbook therefore introduces QEC concepts _hands-on_ at the circuit level and aims to discuss these details to encourage QEC experimentation and discovery of novel error-correcting codes. The goal is to demonstrate both _why_ QEC works and _how_ to run it.\n",
    "\n",
    "## <font color='blue'>References</font>\n",
    "[1] **Kjaergaard *et al.* (Annu. Rev. Condens. Matter Phys., 2020):** *Superconducting Qubits: Current State of Play.* DOI: 10.1146/annurev-conmatphys-031119-050605. [arXiv:1905.13641](https://arxiv.org/abs/1905.13641).  \n",
    "[2] **Ballance *et al.* (PRL, 2016):** *High-Fidelity Quantum Logic Gates Using Trapped-Ion Hyperfine Qubits.* DOI: 10.1103/PhysRevLett.117.060504. [arXiv:1512.04600](https://arxiv.org/abs/1512.04600).   \n",
    "[3] **Sung *et al.* (PRX, 2021):** *Realization of High-Fidelity CZ and ZZ-Free iSWAP Gates with a Tunable Coupler.* DOI: 10.1103/PhysRevX.11.021058. [arXiv:2011.01261](https://arxiv.org/abs/2011.01261).  \n",
    "[4] **Huang *et al.* (Nature, 2019):** *Fidelity benchmarks for two-qubit gates in silicon.* DOI: 10.1038/s41586-019-1197-0. [arxiv:1805.05027](https://arxiv.org/abs/1805.05027).  \n",
    "[5] **Evered *et al.* (Nature, 2023):** *High-fidelity parallel entangling gates on a neutral-atom quantum computer.* [arXiv:2304.05420](https://arxiv.org/abs/2304.05420).  \n",
    "[6] **Quantinuum (Blog, 2024):** *Quantinuum extends its significant lead in quantum computing, achieving historic milestones for hardware fidelity and Quantum Volume* [Blog](https://www.quantinuum.com/blog/quantinuum-extends-its-significant-lead-in-quantum-computing-achieving-historic-milestones-for-hardware-fidelity-and-quantum-volume).  \n",
    "[7] **Gidney & Ekera (Quantum, 2021):** *How to factor 2048-bit RSA integers in 8 hours using 20 million noisy qubits.* Quantum **5**, 433. [arXiv:1905.09749](https://arxiv.org/abs/1905.09749)  \n",
    "[8] **Lee *et al.* (PRX Quantum, 2021):** *Even More Efficient Quantum Computations of Chemistry Through Tensor Hypercontraction.* DOI: 10.1103/PRXQuantum.2.030305. [arXiv:2011.03494](https://arxiv.org/abs/2011.03494)."
   ]
  }
 ],
 "metadata": {
  "kernelspec": {
   "display_name": "Python 3 (ipykernel)",
   "language": "python",
   "name": "python3"
  },
  "language_info": {
   "codemirror_mode": {
    "name": "ipython",
    "version": 3
   },
   "file_extension": ".py",
   "mimetype": "text/x-python",
   "name": "python",
   "nbconvert_exporter": "python",
   "pygments_lexer": "ipython3",
   "version": "3.13.7"
  }
 },
 "nbformat": 4,
 "nbformat_minor": 5
}
