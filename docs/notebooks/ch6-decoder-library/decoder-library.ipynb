{
 "cells": [
  {
   "cell_type": "markdown",
   "id": "9b9e9506-6018-482f-bf0f-a4556a7d49b5",
   "metadata": {},
   "source": [
    "# <font color='green'>Decoder Library</font>\n",
    "\n",
    "## <font color='blue'>1D Minimum-Weight Perfect Matching</font>\n",
    "\n",
    "### <font color='red'>Syndrome measurement</font>\n",
    "```\n",
    "for each consecutive pair of data qubits\n",
    "    do a parity check (pairwise XOR for classical bits, ZZ or XX for qubits) and store the result in an ancillary bit/qubit\n",
    "```\n",
    "### <font color='red'>Decoding algorithm</font>\n",
    "```\n",
    "option 1: assume data qubit 0 had no error\n",
    "from left to right, for each parity check bit indexed i >= 0\n",
    "    error on qubit i + 1 = error on qubit i XOR parity check qubit i\n",
    "\n",
    "option 2: assume data qubit 0 had an error\n",
    "from left to right, for each parity check bit indexed i >= 0\n",
    "    error on qubit i + 1 = error on qubit i XOR parity check qubit i\n",
    "\n",
    "compare options 1 and 2, and pick the one that has fewer errors (minimum weight)\n",
    "```\n",
    "\n",
    "![](images/MWPM1D.gif)"
   ]
  }
 ],
 "metadata": {
  "kernelspec": {
   "display_name": "Python 3 (ipykernel)",
   "language": "python",
   "name": "python3"
  },
  "language_info": {
   "codemirror_mode": {
    "name": "ipython",
    "version": 3
   },
   "file_extension": ".py",
   "mimetype": "text/x-python",
   "name": "python",
   "nbconvert_exporter": "python",
   "pygments_lexer": "ipython3",
   "version": "3.13.5"
  }
 },
 "nbformat": 4,
 "nbformat_minor": 5
}
