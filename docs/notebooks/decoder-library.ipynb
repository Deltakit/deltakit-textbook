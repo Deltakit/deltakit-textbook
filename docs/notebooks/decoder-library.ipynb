{
 "cells": [
  {
   "cell_type": "markdown",
   "id": "9b9e9506-6018-482f-bf0f-a4556a7d49b5",
   "metadata": {},
   "source": [
    "# <font color='green'>Decoder Library</font>\n",
    "\n",
    "## <font color='blue'>1D Minimum-Weight Perfect Matching</font>\n",
    "\n",
    "![](images/MWPM1D.gif)"
   ]
  }
 ],
 "metadata": {
  "kernelspec": {
   "display_name": "Python 3 (ipykernel)",
   "language": "python",
   "name": "python3"
  },
  "language_info": {
   "codemirror_mode": {
    "name": "ipython",
    "version": 3
   },
   "file_extension": ".py",
   "mimetype": "text/x-python",
   "name": "python",
   "nbconvert_exporter": "python",
   "pygments_lexer": "ipython3",
   "version": "3.13.3"
  }
 },
 "nbformat": 4,
 "nbformat_minor": 5
}
