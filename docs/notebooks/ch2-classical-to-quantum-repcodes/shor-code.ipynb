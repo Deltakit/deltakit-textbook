{
 "cells": [
  {
   "cell_type": "markdown",
   "metadata": {
    "editable": true,
    "slideshow": {
     "slide_type": ""
    },
    "tags": []
   },
   "source": [
    "# <font color='green'>Combining bit-flip and phase-flip repetition codes: Shor's 9-qubit code</font>\n",
    "\n",
    "So far, we have seen how to encode qubits to protect from bit-flip and phase-flip errors, but only one of these two kinds of errors at a time. The Shor code, Peter Shor in 1995 [1], was the first quantum error-correcting code that could protect against both bit-flip and phase-flip errors. It achieves this through a clever technique called **concatenation** -- essentially nesting one code inside another.\n",
    "\n",
    "Here, we build the Shor code from scratch, and simulate the logical error probability of the Shor code for various physical error probabilities."
   ]
  },
  {
   "cell_type": "markdown",
   "metadata": {
    "editable": true,
    "slideshow": {
     "slide_type": ""
    },
    "tags": []
   },
   "source": [
    "## <font color='blue'>Encoding procedure</font>\n",
    "\n",
    "The Shor code combines the encoding schemes of both repetition codes that we've seen so far using 9 physical qubits to encode 1 logical qubit.\n",
    "\n",
    "1. First, encode against bit-flip errors (like the 3-qubit bit-flip code), by encoding $\\vert0\\rangle \\rightarrow \\vert000\\rangle$ and $\\vert1\\rangle \\rightarrow \\vert111\\rangle$.\n",
    "2. Then, encode each qubit within the 3 blocks against phase-flip errors (like in the 3-qubit phase-flip code), by encoding $\\vert0\\rangle \\rightarrow \\frac{\\vert000\\rangle + \\vert111\\rangle}{\\sqrt{2}}$ and $\\vert1\\rangle \\rightarrow \\frac{\\vert000\\rangle - \\vert111\\rangle}{\\sqrt{2}}$ within each block.\n",
    "\n",
    "This gives us 3 blocks of 3 qubits, for a total of 3 × 3 = 9 physical qubits which will serve as the data qubits.\n",
    "\n",
    "![img](images/shor-encoding.png)\n",
    "\n",
    "The logical states are then\n",
    "\n",
    "$$\n",
    "\\vert0\\rangle_L = \\left(\\frac{\\vert000\\rangle + \\vert111\\rangle}{\\sqrt{2}}\\right)_\\text{block 1}\\otimes\\left(\\frac{\\vert000\\rangle + \\vert111\\rangle}{\\sqrt{2}}\\right)_\\text{block 2}\\otimes\\left(\\frac{\\vert000\\rangle + \\vert111\\rangle}{\\sqrt{2}}\\right)_\\text{block 3}\n",
    "$$\n",
    "\n",
    "and\n",
    "\n",
    "$$\n",
    "\\vert1\\rangle_L = \\left(\\frac{\\vert000\\rangle - \\vert111\\rangle}{\\sqrt{2}}\\right)_\\text{block 1}\\otimes\\left(\\frac{\\vert000\\rangle - \\vert111\\rangle}{\\sqrt{2}}\\right)_\\text{block 2}\\otimes\\left(\\frac{\\vert000\\rangle - \\vert111\\rangle}{\\sqrt{2}}\\right)_\\text{block 3}\n",
    "$$\n",
    "\n",
    "and the logical superposition states follow as usual:\n",
    "\n",
    "$$\n",
    "\\vert+\\rangle_L = \\frac{\\vert0\\rangle_L + \\vert1\\rangle_L}{\\sqrt{2}}\n",
    "$$\n",
    "\n",
    "and\n",
    "\n",
    "$$\n",
    "\\vert-\\rangle_L = \\frac{\\vert0\\rangle_L - \\vert1\\rangle_L}{\\sqrt{2}}\n",
    "$$"
   ]
  },
  {
   "cell_type": "code",
   "execution_count": 1,
   "metadata": {
    "editable": true,
    "slideshow": {
     "slide_type": ""
    },
    "tags": [
     "remove-input"
    ]
   },
   "outputs": [],
   "source": [
    "import numpy as np, random\n",
    "import matplotlib.pyplot as plotter; plotter.rcParams['font.family'] = 'Monospace'\n",
    "import cirq\n",
    "from math import comb, ceil, floor\n",
    "from myMWPM import MWPMDecoder1D\n",
    "from tqdm import tqdm\n",
    "from phase_flip_rep_codes import get_binary_representation"
   ]
  },
  {
   "cell_type": "code",
   "execution_count": 2,
   "metadata": {
    "editable": true,
    "slideshow": {
     "slide_type": ""
    },
    "tags": [
     "hide-input"
    ]
   },
   "outputs": [],
   "source": [
    "def create_shor_encoder(block_size = 3):\n",
    "\n",
    "    qubits = cirq.LineQubit.range(block_size * block_size)\n",
    "    circuit = cirq.Circuit()\n",
    "    # outer phase encoding\n",
    "    for i in range(1, block_size):\n",
    "        circuit.append([\n",
    "            cirq.CNOT(qubits[0], qubits[block_size * i]),\n",
    "    ])\n",
    "\n",
    "    circuit.append(cirq.Moment(\n",
    "                cirq.H.on_each(*[qubits[i*block_size] for i in range(block_size)])\n",
    "        )\n",
    "    )\n",
    "    \n",
    "    # inner bit-flip encoding\n",
    "    for i in range(block_size):\n",
    "        block_start = i * block_size\n",
    "        for j in range(1, block_size):\n",
    "            circuit.append([\n",
    "                cirq.CNOT(qubits[block_start], qubits[block_start + j]),\n",
    "            ])\n",
    "    return circuit"
   ]
  },
  {
   "cell_type": "code",
   "execution_count": 3,
   "metadata": {},
   "outputs": [
    {
     "name": "stdout",
     "output_type": "stream",
     "text": [
      "0: ───@───@───H───@───@───\n",
      "      │   │       │   │\n",
      "1: ───┼───┼───────X───┼───\n",
      "      │   │           │\n",
      "2: ───┼───┼───────────X───\n",
      "      │   │\n",
      "3: ───X───┼───H───@───@───\n",
      "          │       │   │\n",
      "4: ───────┼───────X───┼───\n",
      "          │           │\n",
      "5: ───────┼───────────X───\n",
      "          │\n",
      "6: ───────X───H───@───@───\n",
      "                  │   │\n",
      "7: ───────────────X───┼───\n",
      "                      │\n",
      "8: ───────────────────X───\n"
     ]
    }
   ],
   "source": [
    "encoder = create_shor_encoder(block_size = 3)\n",
    "print(encoder)"
   ]
  },
  {
   "cell_type": "markdown",
   "metadata": {},
   "source": [
    "## <font color='blue'>Extracting syndromes</font>"
   ]
  },
  {
   "cell_type": "markdown",
   "metadata": {},
   "source": [
    "As before, we will use syndrome qubits to extract syndromes. Since there are 9 data qubits, we will need to do 8 pairwise parity checks and therefore require 8 additional syndrome qubits, for a total of 17 physical qubits. These 8 pairwise parity checks are composed of two kinds: 6 within-block parity checks to ensure consistency within each block, and 2 block-pair-wise parity checks to ensure consistency across the 3 blocks."
   ]
  },
  {
   "cell_type": "markdown",
   "metadata": {
    "editable": true,
    "slideshow": {
     "slide_type": ""
    },
    "tags": []
   },
   "source": [
    "### <font color='red'>Parity checks within blocks</font>\n",
    "\n",
    "Within each block, we will run $Z_iZ_{i+1}$ parity checks to ensure bitwise consistency within that block, similar to bit-flip repetition codes. Since there are 3 blocks in total, each of which will need 2 such parity checks, we will need a total of 6 syndrome qubits to do this work."
   ]
  },
  {
   "cell_type": "code",
   "execution_count": 4,
   "metadata": {
    "editable": true,
    "slideshow": {
     "slide_type": ""
    },
    "tags": [
     "hide-input"
    ]
   },
   "outputs": [],
   "source": [
    "def get_shor_bitflip_syndrome_measurement(block_size = 3):\n",
    "    \n",
    "    circuit = cirq.Circuit()\n",
    "    data_qubits = cirq.LineQubit.range(block_size * block_size)\n",
    "    bitflip_syndrome_start_index = len(data_qubits)\n",
    "    bitflip_syndrome_qubits = cirq.LineQubit.range(bitflip_syndrome_start_index, bitflip_syndrome_start_index + (block_size - 1)*block_size)\n",
    "    \n",
    "    for block_index in range(block_size):\n",
    "        for within_block_index in range(block_size-1):\n",
    "            data_qubit_index = block_index * block_size + within_block_index\n",
    "            syndrome_index = block_index * (block_size-1) + within_block_index\n",
    "            circuit.append([\n",
    "                cirq.CNOT(data_qubits[data_qubit_index], bitflip_syndrome_qubits[syndrome_index]),\n",
    "                cirq.CNOT(data_qubits[data_qubit_index + 1], bitflip_syndrome_qubits[syndrome_index]),\n",
    "            ])\n",
    "        circuit.append(cirq.Moment(cirq.I.on_each(*data_qubits)))\n",
    "    circuit.append(cirq.measure(*bitflip_syndrome_qubits, key = 'bitflip-syndrome'))\n",
    "\n",
    "    return circuit"
   ]
  },
  {
   "cell_type": "code",
   "execution_count": 5,
   "metadata": {},
   "outputs": [
    {
     "name": "stdout",
     "output_type": "stream",
     "text": [
      "0: ────@───────────────I───────────────────I───────────────────I───────────────────────\n",
      "       │\n",
      "1: ────┼───@───@───────I───────────────────I───────────────────I───────────────────────\n",
      "       │   │   │\n",
      "2: ────┼───┼───┼───@───I───────────────────I───────────────────I───────────────────────\n",
      "       │   │   │   │\n",
      "3: ────┼───┼───┼───┼───I───@───────────────I───────────────────I───────────────────────\n",
      "       │   │   │   │       │\n",
      "4: ────┼───┼───┼───┼───I───┼───@───@───────I───────────────────I───────────────────────\n",
      "       │   │   │   │       │   │   │\n",
      "5: ────┼───┼───┼───┼───I───┼───┼───┼───@───I───────────────────I───────────────────────\n",
      "       │   │   │   │       │   │   │   │\n",
      "6: ────┼───┼───┼───┼───I───┼───┼───┼───┼───I───@───────────────I───────────────────────\n",
      "       │   │   │   │       │   │   │   │       │\n",
      "7: ────┼───┼───┼───┼───I───┼───┼───┼───┼───I───┼───@───@───────I───────────────────────\n",
      "       │   │   │   │       │   │   │   │       │   │   │\n",
      "8: ────┼───┼───┼───┼───I───┼───┼───┼───┼───I───┼───┼───┼───@───I───────────────────────\n",
      "       │   │   │   │       │   │   │   │       │   │   │   │\n",
      "9: ────X───X───┼───┼───────┼───┼───┼───┼───────┼───┼───┼───┼───M('bitflip-syndrome')───\n",
      "               │   │       │   │   │   │       │   │   │   │   │\n",
      "10: ───────────X───X───────┼───┼───┼───┼───────┼───┼───┼───┼───M───────────────────────\n",
      "                           │   │   │   │       │   │   │   │   │\n",
      "11: ───────────────────────X───X───┼───┼───────┼───┼───┼───┼───M───────────────────────\n",
      "                                   │   │       │   │   │   │   │\n",
      "12: ───────────────────────────────X───X───────┼───┼───┼───┼───M───────────────────────\n",
      "                                               │   │   │   │   │\n",
      "13: ───────────────────────────────────────────X───X───┼───┼───M───────────────────────\n",
      "                                                       │   │   │\n",
      "14: ───────────────────────────────────────────────────X───X───M───────────────────────\n"
     ]
    }
   ],
   "source": [
    "bitflip_syndrome_meas = get_shor_bitflip_syndrome_measurement(block_size = 3)\n",
    "print(bitflip_syndrome_meas)"
   ]
  },
  {
   "cell_type": "markdown",
   "metadata": {},
   "source": [
    "### <font color='red'>Parity checks across blocks</font>\n",
    "\n",
    "We will also run parity checks to ensure _phase_ consistency across all 3 blocks. To do so, we run $X_iX_{i+1}$ parity checks across blocks. Note that when $Z$ errors occur within each block, only an odd number of such errors causes a phase consistency across blocks (since $Z_i\\vert111\\rangle = -\\vert111\\rangle$ and $-Z_j\\vert111\\rangle = \\vert111\\rangle$ for any $i$ and $j$ within a block). One parity check will measure the phase consistency between blocks 0 and 1 (by running $X_0X_1X_2X_3X_4X_5$), and another will measure the phase consistency between blocks 0 and 2 (by running $X_0X_1X_2X_6X_7X_8$). If two blocks are inconsistent but we know that they are, we can simply apply a single $Z$ gate in one of the blocks to bring them back to consistency and avoid a logical error.\n",
    "\n",
    "Note that there are two methods for running an $X_iX_j$ parity check (see [Dan Browne's lecture notes, section 1.3.9](https://sites.google.com/site/danbrowneucl/teaching/lectures-on-topological-codes-and-quantum-computation). In one method, we initialize the syndrome qubits in the Hadamard basis, run controlled-$X$ gates from the syndrome qubits to the data qubits, and then measure the syndrome in the Hadamard basis. The circuit identity $HZH = X$ can be used to transform this method into the second: apply $H$ gates to all data qubits, and run controlled-$X$ gates from the data qubits to the syndrome qubits.\n",
    "\n",
    "We will use the latter method below."
   ]
  },
  {
   "cell_type": "code",
   "execution_count": 6,
   "metadata": {
    "editable": true,
    "slideshow": {
     "slide_type": ""
    },
    "tags": [
     "hide-input"
    ]
   },
   "outputs": [],
   "source": [
    "def get_shor_phaseflip_syndrome_measurement(block_size = 3):\n",
    "    \n",
    "    circuit = cirq.Circuit()\n",
    "    data_qubits = cirq.LineQubit.range(block_size * block_size)\n",
    "    bitflip_syndrome_start_index = len(data_qubits)\n",
    "    bitflip_syndrome_qubits = cirq.LineQubit.range(bitflip_syndrome_start_index, bitflip_syndrome_start_index + (block_size - 1) * block_size)\n",
    "    phaseflip_syndrome_start_index = len(data_qubits) + len(bitflip_syndrome_qubits)\n",
    "    phaseflip_syndrome_qubits = cirq.LineQubit.range(phaseflip_syndrome_start_index, phaseflip_syndrome_start_index + (block_size - 1))\n",
    "\n",
    "    circuit.append(cirq.Moment(cirq.H.on_each(*data_qubits)))\n",
    "    # block 0 to both all syndrome qubits. The data qubits of block 0 are indexed 0 to block_size\n",
    "    for data_qubit_index in range(block_size):\n",
    "        for phaseflip_syndrome_index in range(block_size - 1):\n",
    "            circuit.append(\n",
    "                cirq.CNOT(data_qubits[data_qubit_index], phaseflip_syndrome_qubits[phaseflip_syndrome_index])\n",
    "            )\n",
    "    circuit.append(cirq.Moment(cirq.I.on_each(*phaseflip_syndrome_qubits)))\n",
    "\n",
    "\n",
    "    # all other blocks to one syndrome at a time each\n",
    "    for block_index in range(1, block_size):\n",
    "        data_qubit_start_index = block_size * block_index\n",
    "        for data_qubit_index in range(data_qubit_start_index, data_qubit_start_index + block_size):\n",
    "            circuit.append(\n",
    "                cirq.CNOT(data_qubits[data_qubit_index], phaseflip_syndrome_qubits[block_index - 1])\n",
    "            )\n",
    "        circuit.append(cirq.Moment(cirq.I.on_each(*phaseflip_syndrome_qubits)))\n",
    "\n",
    "    circuit.append(cirq.Moment(cirq.H.on_each(*data_qubits)))\n",
    "    circuit.append(cirq.measure(*phaseflip_syndrome_qubits, key = 'phaseflip-syndrome'))\n",
    "   \n",
    "    return circuit"
   ]
  },
  {
   "cell_type": "code",
   "execution_count": 7,
   "metadata": {},
   "outputs": [
    {
     "name": "stdout",
     "output_type": "stream",
     "text": [
      "               ┌──┐   ┌──┐\n",
      "0: ────H───@────@────────────────────────────────────────────────────H─────────────────────────\n",
      "           │    │\n",
      "1: ────H───┼────┼@─────@─────────────────────────────────────────────H─────────────────────────\n",
      "           │    ││     │\n",
      "2: ────H───┼────┼┼─────┼@────@───────────────────────────────────────H─────────────────────────\n",
      "           │    ││     ││    │\n",
      "3: ────H───┼────┼┼─────┼┼────┼───────@───────────────────────────────H─────────────────────────\n",
      "           │    ││     ││    │       │\n",
      "4: ────H───┼────┼┼─────┼┼────┼───────┼───@───────────────────────────H─────────────────────────\n",
      "           │    ││     ││    │       │   │\n",
      "5: ────H───┼────┼┼─────┼┼────┼───────┼───┼───@───────────────────────H─────────────────────────\n",
      "           │    ││     ││    │       │   │   │\n",
      "6: ────H───┼────┼┼─────┼┼────┼───────┼───┼───┼───────@───────────────H─────────────────────────\n",
      "           │    ││     ││    │       │   │   │       │\n",
      "7: ────H───┼────┼┼─────┼┼────┼───────┼───┼───┼───────┼───@───────────H─────────────────────────\n",
      "           │    ││     ││    │       │   │   │       │   │\n",
      "8: ────H───┼────┼┼─────┼┼────┼───────┼───┼───┼───────┼───┼───@───────H─────────────────────────\n",
      "           │    ││     ││    │       │   │   │       │   │   │\n",
      "15: ───────X────┼X─────┼X────┼───I───X───X───X───I───┼───┼───┼───I───M('phaseflip-syndrome')───\n",
      "                │      │     │                       │   │   │       │\n",
      "16: ────────────X──────X─────X───I───────────────I───X───X───X───I───M─────────────────────────\n",
      "               └──┘   └──┘\n"
     ]
    }
   ],
   "source": [
    "phaseflip_syndrome_meas = get_shor_phaseflip_syndrome_measurement(block_size = 3)\n",
    "print(phaseflip_syndrome_meas)"
   ]
  },
  {
   "cell_type": "markdown",
   "metadata": {},
   "source": [
    "## <font color='blue'>Creating the initial state</font>"
   ]
  },
  {
   "cell_type": "markdown",
   "metadata": {},
   "source": [
    "We will use standard rotations to initialize the state of the qubit that is protected by the Shor code. An $X$ gate will flip it from $\\vert0\\rangle$ to $\\vert1\\rangle$, an $H$ gate will flip $\\vert0\\rangle$ to $\\vert+\\rangle$, and a combination of both will flip $\\vert0\\rangle$ to $\\vert-\\rangle$ ($\\vert-\\rangle = ZH\\vert0\\rangle$)."
   ]
  },
  {
   "cell_type": "code",
   "execution_count": 8,
   "metadata": {
    "editable": true,
    "slideshow": {
     "slide_type": ""
    },
    "tags": [
     "hide-input"
    ]
   },
   "outputs": [],
   "source": [
    "def create_initial_state(starting_state = '+'):\n",
    "    \n",
    "    starting_circuit = cirq.Circuit()\n",
    "    starting_qubit = cirq.LineQubit(0)\n",
    "\n",
    "    if starting_state == '0':\n",
    "        starting_circuit.append(cirq.Moment(cirq.I(starting_qubit)))\n",
    "    elif starting_state == '1':\n",
    "        starting_circuit.append(cirq.Moment(cirq.X(starting_qubit)))\n",
    "    elif starting_state == '+':\n",
    "        starting_circuit.append(cirq.Moment(cirq.H(starting_qubit)))\n",
    "    elif starting_state == '-':\n",
    "        starting_circuit.append(cirq.Moment(cirq.H(starting_qubit)))\n",
    "        starting_circuit.append(cirq.Moment(cirq.Z(starting_qubit)))\n",
    "\n",
    "    return starting_circuit"
   ]
  },
  {
   "cell_type": "code",
   "execution_count": 9,
   "metadata": {},
   "outputs": [
    {
     "data": {
      "text/html": [
       "<pre style=\"overflow: auto; white-space: pre;\">0: ───H───</pre>"
      ],
      "text/plain": [
       "0: ───H───"
      ]
     },
     "execution_count": 9,
     "metadata": {},
     "output_type": "execute_result"
    }
   ],
   "source": [
    "create_initial_state('+')"
   ]
  },
  {
   "cell_type": "markdown",
   "metadata": {},
   "source": [
    "## <font color='blue'>Applying noise</font>"
   ]
  },
  {
   "cell_type": "markdown",
   "metadata": {
    "editable": true,
    "slideshow": {
     "slide_type": ""
    },
    "tags": []
   },
   "source": [
    "As we have seen in the previous chapter on phase-flip repetition codes, we will need to track the errors that we have applied in order to run simulations of the performance of the error-correcting code. The function below applies noise to the relevant data qubits, and then reports which ones it applied."
   ]
  },
  {
   "cell_type": "code",
   "execution_count": 10,
   "metadata": {
    "editable": true,
    "slideshow": {
     "slide_type": ""
    },
    "tags": []
   },
   "outputs": [],
   "source": [
    "def create_noise_circuit(p = 0.1, block_size = 3, error_gate = cirq.Z):\n",
    "\n",
    "    def flip(p):\n",
    "        return 1 if random.random() < p else 0\n",
    "    \n",
    "    noise_circuit = cirq.Circuit()\n",
    "    data_qubits = cirq.LineQubit.range(block_size * block_size)\n",
    "\n",
    "    has_error = [flip(p) for _ in range(len(data_qubits))]\n",
    "    error_indices = [i for i, x in enumerate(has_error) if x == 1]\n",
    "    errors = []\n",
    "    for error_index in error_indices:\n",
    "        noise_circuit.append(error_gate(data_qubits[error_index]))\n",
    "        errors.append(error_gate)\n",
    "\n",
    "    return noise_circuit, [error_indices, errors]"
   ]
  },
  {
   "cell_type": "markdown",
   "metadata": {
    "editable": true,
    "slideshow": {
     "slide_type": ""
    },
    "tags": []
   },
   "source": [
    "## <font color='blue'>Putting it all together</font>"
   ]
  },
  {
   "cell_type": "markdown",
   "metadata": {
    "editable": true,
    "slideshow": {
     "slide_type": ""
    },
    "tags": []
   },
   "source": [
    "We can now combine all the pieces above into a full run of the Shor code. Once we construct the circuit to encode the state of one qubit into the 9 qubits of the Shor code, apply noise, and run our syndrome checks, we will need to decode the syndrome checks and determine whether a logical error has occurred.\n",
    "\n",
    "A logical error can happen in two ways:\n",
    "- If a single $Z$ errors happens within a block, then we will be able to determine the location of that block through the phase consistency checks described above. However, if two $Z$ errors happen in two different blocks, then our phase consistency's majority vote will fail to identify where these errors occurred, leading to a logical error.\n",
    "- If a single $X$ error occurs within a block, then we will be able to determine its location through the within-block bitwise parity checks described above. However, if two $X$ errors occur within the same block, these within-block parity checks will not be able to identify the correct location since the majority vote within the block fails to identify the flipped data qubit and a logical error occurs."
   ]
  },
  {
   "cell_type": "code",
   "execution_count": 11,
   "metadata": {
    "editable": true,
    "slideshow": {
     "slide_type": ""
    },
    "tags": [
     "hide-input"
    ]
   },
   "outputs": [],
   "source": [
    "def get_shor_code_logical_error_probability(p = 0.1, block_size = 3, n_shots = 1000, simulator = cirq.CliffordSimulator(), starting_state = '+', error_gate = cirq.Z):\n",
    "    starting_circuit = create_initial_state(starting_state = starting_state)\n",
    "    encoder_circuit = create_shor_encoder(block_size = block_size)\n",
    "    bitflip_syndrome_circuit = get_shor_bitflip_syndrome_measurement(block_size = block_size)\n",
    "    phaseflip_syndrome_circuit = get_shor_phaseflip_syndrome_measurement(block_size = block_size)\n",
    "    decoder = MWPMDecoder1D(num_qubits=block_size)\n",
    "\n",
    "    num_logical_errors = 0\n",
    "    for i in range(n_shots):\n",
    "        full_shor_circuit = cirq.Circuit()\n",
    "        noise_circuit, noise_applied = create_noise_circuit(p = p, block_size = block_size, error_gate = error_gate)\n",
    "        full_shor_circuit = starting_circuit + encoder_circuit + noise_circuit + bitflip_syndrome_circuit + phaseflip_syndrome_circuit\n",
    "        result = simulator.run(full_shor_circuit, repetitions = 1)\n",
    "        bitflip_syndromes = result.measurements['bitflip-syndrome'][0]\n",
    "        phaseflip_syndromes = result.measurements['phaseflip-syndrome'][0]\n",
    "    \n",
    "        decoded_bitflip_errors = []\n",
    "        # decoding bit flips\n",
    "        # we can tell where bitflip errors happened within each block precisely\n",
    "        for i in range(0, len(bitflip_syndromes), block_size-1):  # Slice list in steps of block_size\n",
    "            these_syndromes = bitflip_syndromes[i:i+block_size-1]\n",
    "            withinblock_error_indices = decoder.decode(these_syndromes)\n",
    "            error_locations = [int(i // (block_size-1))*block_size + x for x in withinblock_error_indices]\n",
    "            for error_loc in error_locations:\n",
    "                decoded_bitflip_errors.append([error_loc, cirq.X])\n",
    "    \n",
    "        # decoding phase flips\n",
    "        # we can only tell that phaseflip errors happened within a block, not precisely where\n",
    "        # but that's OK because a single Z gate will undo the phase error in a block\n",
    "        block_errors_0 = [0] # assume block 0 has no phase flip error\n",
    "        block_errors_1 = [1] # assume block 0 has phase flip error\n",
    "        for j in range(len(phaseflip_syndromes)):\n",
    "            # assume block 0 has no phase flip error\n",
    "            block_errors_0.append(0 ^ phaseflip_syndromes[j])\n",
    "            # assume block 0 has phase flip error\n",
    "            block_errors_1.append(1 ^ phaseflip_syndromes[j])\n",
    "        # pick the option with minimum weight\n",
    "        if sum(block_errors_0) <= sum(block_errors_1):\n",
    "            block_errors_final = block_errors_0\n",
    "        else:\n",
    "            block_errors_final = block_errors_1\n",
    "        decoded_phaseflip_error_blocks = [i for i, thisblock_error in enumerate(block_errors_final) if thisblock_error == 1]\n",
    "    \n",
    "        # decide whether or not a logical error occurred    \n",
    "        is_logical_error = False\n",
    "        qubits_with_errors, qubit_errors = noise_applied\n",
    "\n",
    "        # bitflip errors are checked within each block. if we are unable to detect a bitflip error within a block\n",
    "        # then a logical error occurs\n",
    "        for qubit_with_error, qubit_error in zip(qubits_with_errors, qubit_errors):\n",
    "            if qubit_error == cirq.X:\n",
    "                if [qubit_with_error, cirq.X] not in decoded_bitflip_errors:\n",
    "                    is_logical_error = True\n",
    "                    \n",
    "        # if we were unable to detect a block where a Z error happened, then a logical error occurs\n",
    "        for qubit_with_error, qubit_error in zip(qubits_with_errors, qubit_errors):\n",
    "            if qubit_error == cirq.Z:\n",
    "                thisqubit_block = qubit_with_error // block_size\n",
    "                if thisqubit_block not in decoded_phaseflip_error_blocks:\n",
    "                    is_logical_error = True\n",
    "                    \n",
    "        if is_logical_error:\n",
    "            num_logical_errors += 1\n",
    "            \n",
    "    return num_logical_errors * 1./ n_shots"
   ]
  },
  {
   "cell_type": "markdown",
   "metadata": {
    "editable": true,
    "slideshow": {
     "slide_type": ""
    },
    "tags": []
   },
   "source": [
    "As before, we write a loop to go through several values of physical error probabilities and test the performance of the error-correcting code to those errors."
   ]
  },
  {
   "cell_type": "code",
   "execution_count": 12,
   "metadata": {
    "editable": true,
    "slideshow": {
     "slide_type": ""
    },
    "tags": [
     "hide-input"
    ]
   },
   "outputs": [],
   "source": [
    "def get_logical_error_probability_simulated(block_sizes, physical_errors, n_shots, simulator = cirq.CliffordSimulator(), starting_state = '+', error_gate = cirq.Z):\n",
    "    \n",
    "    all_logical_errors = []\n",
    "    for block_size in block_sizes:\n",
    "        print(f\"Simulating block-size-{block_size} Shor code circuits\")\n",
    "        thisblock_size_logicalerrors = []\n",
    "        for physical_error in tqdm(physical_errors):\n",
    "            logical_error = get_shor_code_logical_error_probability(\n",
    "                                p = physical_error,\n",
    "                                block_size = block_size,\n",
    "                                n_shots = n_shots,\n",
    "                                simulator = simulator,\n",
    "                                starting_state = starting_state,\n",
    "                                error_gate = error_gate\n",
    "                            )\n",
    "            thisblock_size_logicalerrors.append(logical_error)\n",
    "        all_logical_errors.append(thisblock_size_logicalerrors)\n",
    "\n",
    "    return all_logical_errors"
   ]
  },
  {
   "cell_type": "code",
   "execution_count": 13,
   "metadata": {
    "editable": true,
    "slideshow": {
     "slide_type": ""
    },
    "tags": []
   },
   "outputs": [],
   "source": [
    "starting_state = '0'\n",
    "error_gate = cirq.Z\n",
    "block_sizes = [3]\n",
    "physical_errors = np.logspace(-3, 0, 10)  # 10^-3 = 0.001 to 10^0 = 1 in 10 steps"
   ]
  },
  {
   "cell_type": "code",
   "execution_count": 14,
   "metadata": {
    "editable": true,
    "slideshow": {
     "slide_type": ""
    },
    "tags": []
   },
   "outputs": [
    {
     "name": "stdout",
     "output_type": "stream",
     "text": [
      "Simulating block-size-3 Shor code circuits\n"
     ]
    },
    {
     "name": "stderr",
     "output_type": "stream",
     "text": [
      "100%|██████████████████████████████████████████████████████████████████████████████| 10/10 [16:21<00:00, 98.12s/it]\n"
     ]
    }
   ],
   "source": [
    "simulator = cirq.CliffordSimulator()\n",
    "all_logical_errors = get_logical_error_probability_simulated(block_sizes, physical_errors, \n",
    "                                                             n_shots = 50000, simulator = simulator,\n",
    "                                                             starting_state = starting_state, error_gate = error_gate)"
   ]
  },
  {
   "cell_type": "markdown",
   "metadata": {
    "editable": true,
    "slideshow": {
     "slide_type": ""
    },
    "tags": []
   },
   "source": [
    "Now, we can derive an analytical expression for the logical error probability using the same arguments that we have previously seen for repetition codes. We will consider the case of $Z$ errors where the initial state is $\\vert+\\rangle_L$ for simplicity, for the Shor code where the size of each block is $\\text{blocksize}$. There are 9 ($\\text{blocksize}^2$) data qubits that can experience a $Z$ error. If more than one $Z$ flip occurs, then we will be unable to detect where it happened with our 2 parity checks that compare the blocks.\n",
    "\n",
    "There are $\\binom{9}{0} = 1$ cases where no $Z$ flips occur (with probability $\\left(1-p\\right)^9$), and $\\binom{9}{1} = 9$ cases where one $Z$ flip occurs (with probability $p\\left(1-p\\right)^8$ each). Any other case leads to a logical error. Then, the probabilty of success is\n",
    "\n",
    "$$\n",
    "p_L = 1-p_\\text{success} = 1-\\binom{\\text{blocksize}^2}{0}\\left(1-p\\right)^9-\\binom{\\text{blocksize}^2}{1}p\\left(1-p\\right)^8 = 1 - \\left(1-p\\right)^9 - 9p\\left(1-p\\right)^8\n",
    "$$\n",
    "\n",
    "This is exactly the same as our previously derived expression\n",
    "\n",
    "$$\n",
    "p_L = 1-p_\\text{success} =  1-\\sum_{n_\\text{flips} = 0}^{d/2} \\binom{d}{n_\\text{flips}}\\times p^{n_\\text{flips}}\\times(1-p)^{d-n_\\text{flips}}\n",
    "$$\n",
    "\n",
    "where we replace $d$ by $\\text{blocksize}^2$ within the sum, since that represents the total number of qubits used in the encoding procedure that could experience errors, but keep the sum running up to at most $\\lfloor d/2\\rfloor$ since that is the number of flips that will cause a logical error."
   ]
  },
  {
   "cell_type": "code",
   "execution_count": 15,
   "metadata": {
    "editable": true,
    "slideshow": {
     "slide_type": ""
    },
    "tags": [
     "hide-input"
    ]
   },
   "outputs": [],
   "source": [
    "def get_logical_error_probability_analytical(block_sizes, physical_errors):\n",
    "    \n",
    "    all_analytical_errors = []\n",
    "    for block_size in block_sizes:\n",
    "        # analytical_success = 0\n",
    "        # for i in range(floor(block_size/2.)+1):\n",
    "        #     analytical_success += comb(block_size**2, i) * physical_errors**i * (1-physical_errors)**(block_size**2-i)\n",
    "        # analytical_errors = 1-analytical_success\n",
    "        analytical_errors = 1 - (1-physical_errors)**9 - 9*physical_errors*(1-physical_errors)**8\n",
    "        all_analytical_errors.append(analytical_errors)\n",
    "\n",
    "    return all_analytical_errors"
   ]
  },
  {
   "cell_type": "code",
   "execution_count": 16,
   "metadata": {
    "editable": true,
    "slideshow": {
     "slide_type": ""
    },
    "tags": [
     "hide-input"
    ]
   },
   "outputs": [],
   "source": [
    "all_analytical_errors = get_logical_error_probability_analytical(block_sizes, physical_errors)"
   ]
  },
  {
   "cell_type": "code",
   "execution_count": 17,
   "metadata": {
    "editable": true,
    "slideshow": {
     "slide_type": ""
    },
    "tags": [
     "hide-input"
    ]
   },
   "outputs": [],
   "source": [
    "def plot_logical_error_probabilities(block_sizes, physical_errors, all_logical_errors, all_analytical_errors, ylim = [1e-3, 1.1]):\n",
    "    \n",
    "    plotter.figure(figsize=(10, 8))\n",
    "    colors = plotter.cm.viridis(np.linspace(0, 0.8, len(block_sizes)))\n",
    "    \n",
    "    plotter.loglog(physical_errors, physical_errors, label = 'Unprotected qubit',\n",
    "                      linewidth=2, linestyle = '--', color='gray',\n",
    "                      )\n",
    "    for block_size, logical_errors, analytical_errors, color in zip(block_sizes, all_logical_errors, all_analytical_errors, colors):\n",
    "        plotter.loglog(physical_errors, logical_errors, label = f'Shor code (block-size = {block_size}) simulated',\n",
    "                      marker='o', linewidth=2, markersize=8,\n",
    "                      color=color,\n",
    "                      )\n",
    "        plotter.loglog(physical_errors, analytical_errors, label = f'Shor code(block-size = {block_size}) analytical',\n",
    "                      linewidth=2, linestyle = '--', color=color,\n",
    "                      )\n",
    "    \n",
    "    plotter.legend()\n",
    "    plotter.xlim([physical_errors.min(), physical_errors.max()])\n",
    "    plotter.ylim(ylim)\n",
    "    plotter.xlabel('Physical error probability')\n",
    "    plotter.ylabel('Logical error probability')\n",
    "    plotter.tight_layout()\n",
    "    plotter.show()"
   ]
  },
  {
   "cell_type": "code",
   "execution_count": 18,
   "metadata": {
    "editable": true,
    "slideshow": {
     "slide_type": ""
    },
    "tags": []
   },
   "outputs": [
    {
     "data": {
      "image/png": "[encoded data removed]",
      "text/plain": [
       "<Figure size 1000x800 with 1 Axes>"
      ]
     },
     "metadata": {},
     "output_type": "display_data"
    }
   ],
   "source": [
    "plot_logical_error_probabilities( block_sizes, physical_errors, all_logical_errors, all_analytical_errors, ylim = [1e-4, 1.1])"
   ]
  },
  {
   "cell_type": "markdown",
   "metadata": {
    "editable": true,
    "slideshow": {
     "slide_type": ""
    },
    "tags": []
   },
   "source": [
    "## <font color='blue'>Faster code performance simulations</font>"
   ]
  },
  {
   "cell_type": "markdown",
   "metadata": {
    "editable": true,
    "slideshow": {
     "slide_type": ""
    },
    "tags": []
   },
   "source": [
    "In order to test the performance of the Shor code at low errors, we will need to run millions of shots. However, the simulation time above is prohibitively high. To get around this problem, we will use the sampling techniques covered in the previous chapter on running faster circuit simulations. We will first adapt the code above to generate a syndrome table that collects all possible error locations and flags to indicate whether or not they lead to a logical error. Then, we will sample from this syndrome table repeatedly instead of running circuits. The code below samples from the syndrome table using the GPU on the author's laptop. If this is not available for you, the speedup from using a syndrome table should still be significant."
   ]
  },
  {
   "cell_type": "code",
   "execution_count": 19,
   "metadata": {
    "editable": true,
    "slideshow": {
     "slide_type": ""
    },
    "tags": [
     "hide-input"
    ]
   },
   "outputs": [],
   "source": [
    "def get_shor_code_logical_error_probability_syndrome_table(block_size = 3, simulator = cirq.CliffordSimulator(), starting_state = '+', error_gate = cirq.Z):\n",
    "    starting_circuit = create_initial_state(starting_state = starting_state)\n",
    "    encoder_circuit = create_shor_encoder(block_size = block_size)\n",
    "    bitflip_syndrome_circuit = get_shor_bitflip_syndrome_measurement(block_size = block_size)\n",
    "    phaseflip_syndrome_circuit = get_shor_phaseflip_syndrome_measurement(block_size = block_size)\n",
    "    decoder = MWPMDecoder1D(num_qubits=block_size)\n",
    "\n",
    "    print(f\"Getting syndromes for all possible error locations in block-size {block_size}, |{starting_state}>_L, error gate {error_gate}\")\n",
    "    # first, generate the list of all possible 2^n error locations, n = # data qubits\n",
    "    data_qubits = cirq.LineQubit.range(block_size**2)\n",
    "    num_data_qubits = len(data_qubits)\n",
    "    all_possible_error_locations = []\n",
    "    for i in tqdm(range(2**num_data_qubits)):\n",
    "        error_pattern = get_binary_representation(i, num_data_qubits)\n",
    "        error_locations = np.where(error_pattern)[0].tolist()\n",
    "        all_possible_error_locations.append(error_locations)\n",
    "\n",
    "    # then, using these error locations, construct all possible circuits with errors\n",
    "    all_bitflip_syndromes = []\n",
    "    all_phaseflip_syndromes = []\n",
    "    all_circuits = []\n",
    "    for specific_error_locations in tqdm(all_possible_error_locations):\n",
    "        full_shor_circuit = starting_circuit + encoder_circuit\n",
    "        # insert errors\n",
    "        error_moment = []\n",
    "        for i in range(num_data_qubits):\n",
    "            if i in specific_error_locations:\n",
    "                error_moment.append(error_gate(data_qubits[i]))\n",
    "        if error_moment:\n",
    "            full_shor_circuit += cirq.Moment(error_moment) # insert a moment with all errors\n",
    "        full_shor_circuit += bitflip_syndrome_circuit + phaseflip_syndrome_circuit\n",
    "        all_circuits.append(full_shor_circuit)\n",
    "\n",
    "    results = simulator.run_batch(all_circuits, repetitions = 1)\n",
    "    all_bitflip_syndromes = [results[i][0].measurements['bitflip-syndrome'].tolist()[0] for i in range(len(all_circuits))]\n",
    "    all_phaseflip_syndromes = [results[i][0].measurements['phaseflip-syndrome'].tolist()[0] for i in range(len(all_circuits))]\n",
    "\n",
    "    logical_decisions = []\n",
    "    for bitflip_syndromes, phaseflip_syndromes, applied_error_locations in tqdm(zip(all_bitflip_syndromes, all_phaseflip_syndromes, all_possible_error_locations)):\n",
    "        decoded_bitflip_errors = []\n",
    "        # decoding bit flips\n",
    "        # we can tell where bitflip errors happened within each block precisely\n",
    "        for i in range(0, len(bitflip_syndromes), block_size-1):  # Slice list in steps of block_size\n",
    "            these_syndromes = bitflip_syndromes[i:i+block_size-1]\n",
    "            withinblock_error_indices = decoder.decode(these_syndromes)\n",
    "            error_locations = [int(i // (block_size-1))*block_size + x for x in withinblock_error_indices]\n",
    "            for error_loc in error_locations:\n",
    "                decoded_bitflip_errors.append([error_loc, cirq.X])\n",
    "\n",
    "        # decoding phase flips\n",
    "        # we can only tell that phaseflip errors happened within a block, not precisely where\n",
    "        # but that's OK because a single Z gate will undo the phase error in a block\n",
    "        block_errors_0 = [0] # assume block 0 has no phase flip error\n",
    "        block_errors_1 = [1] # assume block 0 has phase flip error\n",
    "        for j in range(len(phaseflip_syndromes)):\n",
    "            # assume block 0 has no phase flip error\n",
    "            block_errors_0.append(0 ^ phaseflip_syndromes[j])\n",
    "            # assume block 0 has phase flip error\n",
    "            block_errors_1.append(1 ^ phaseflip_syndromes[j])\n",
    "        # pick the option with minimum weight\n",
    "        if sum(block_errors_0) <= sum(block_errors_1):\n",
    "            block_errors_final = block_errors_0\n",
    "        else:\n",
    "            block_errors_final = block_errors_1\n",
    "        decoded_phaseflip_error_blocks = [i for i, thisblock_error in enumerate(block_errors_final) if thisblock_error == 1]\n",
    "    \n",
    "        # decide whether or not a logical error occurred    \n",
    "        is_logical_error = False\n",
    "\n",
    "        qubits_with_errors = applied_error_locations\n",
    "        qubit_errors = [error_gate]*len(qubits_with_errors)\n",
    "        # bitflip errors are checked within each block. if we are unable to detect a bitflip error within a block\n",
    "        # then a logical error occurs\n",
    "        for qubit_with_error, qubit_error in zip(qubits_with_errors, qubit_errors):\n",
    "            if qubit_error == cirq.X:\n",
    "                if [qubit_with_error, cirq.X] not in decoded_bitflip_errors:\n",
    "                    is_logical_error = True\n",
    "                    \n",
    "        # if we were unable to detect a block where a Z error happened, then a logical error occurs\n",
    "        for qubit_with_error, qubit_error in zip(qubits_with_errors, qubit_errors):\n",
    "            if qubit_error == cirq.Z:\n",
    "                thisqubit_block = qubit_with_error // block_size\n",
    "                if thisqubit_block not in decoded_phaseflip_error_blocks:\n",
    "                    is_logical_error = True\n",
    "                    \n",
    "        logical_decisions.append(is_logical_error)\n",
    "\n",
    "    syndrome_table = {}\n",
    "    for applied_error_locations, logical_decision in zip(all_possible_error_locations,logical_decisions):\n",
    "        syndrome_table[tuple(applied_error_locations)] = logical_decision\n",
    "        \n",
    "    return syndrome_table"
   ]
  },
  {
   "cell_type": "code",
   "execution_count": 20,
   "metadata": {
    "editable": true,
    "jupyter": {
     "source_hidden": true
    },
    "slideshow": {
     "slide_type": ""
    },
    "tags": [
     "hide-input"
    ]
   },
   "outputs": [],
   "source": [
    "try:\n",
    "    import mlx.core as mx  # Apple's MLX library for Apple Silicon\n",
    "except ImportError:\n",
    "    raise RuntimeError(\"MLX not available\")\n",
    "\n",
    "def convert_syndrome_table_to_GPU(syndrome_table, n_qubits):    \n",
    "    # Create a lookup table as a dense array for GPU -- a list containing [error_pattern: is_logical_error] pairs\n",
    "    syndrome_table_GPU = mx.zeros(2**n_qubits, dtype=mx.bool_)\n",
    "    for specific_error_locations, is_logical_error in syndrome_table.items():\n",
    "        # Convert error tuple to binary index\n",
    "        error_pattern_index = 0\n",
    "        for qubit_index in specific_error_locations:\n",
    "            error_pattern_index |= (1 << qubit_index)\n",
    "        syndrome_table_GPU[error_pattern_index] = is_logical_error\n",
    "    return syndrome_table_GPU\n",
    "\n",
    "def simulate_with_syndrome_table_parallel_GPU_mlx(syndrome_table, n_qubits, error_probability, n_shots):\n",
    "    \n",
    "    # Convert syndrome table to GPU-friendly format\n",
    "    syndrome_table_GPU = convert_syndrome_table_to_GPU(syndrome_table, n_qubits)\n",
    "\n",
    "    total_logical_errors = 0\n",
    "    batch_size = min(100_000_000, n_shots)  # Process 100M at a time on GPU\n",
    "    \n",
    "    shots_processed = 0\n",
    "    while shots_processed < n_shots:\n",
    "        current_batch = min(batch_size, n_shots - shots_processed)\n",
    "        \n",
    "        # Generate random numbers uniformly from 0 to 1 in an array of shape (current_batch, n_qubits) on GPU\n",
    "        # Then convert that to an error pattern on the qubits\n",
    "        error_patterns = mx.random.uniform(shape=(current_batch, n_qubits)) < error_probability\n",
    "        \n",
    "        # Convert patterns to indices for lookup\n",
    "        # The error patterns contain 1 where there is an error, and 0 where there isn't\n",
    "        # They can be indexed from 0 to 2^n-1 by converting the error pattern tuple into a decimal integer\n",
    "        # By doing the dot product (2^n-1 2^n-2 2^n-3.... 2^1 2^0) . (error_pattern)\n",
    "        powers = mx.array([2**i for i in range(n_qubits)])\n",
    "        error_patterns_indices = mx.sum(error_patterns.astype(mx.int32) * powers, axis=1)\n",
    "        \n",
    "        # Lookup whether each index leads to a logical error, and add them all up\n",
    "        logical_errors_batch = mx.sum(syndrome_table_GPU[error_patterns_indices])\n",
    "        \n",
    "        # Transfer result back to CPU\n",
    "        total_logical_errors += int(logical_errors_batch)\n",
    "        \n",
    "        shots_processed += current_batch\n",
    "            \n",
    "    return total_logical_errors / n_shots"
   ]
  },
  {
   "cell_type": "code",
   "execution_count": 21,
   "metadata": {
    "editable": true,
    "jupyter": {
     "source_hidden": true
    },
    "slideshow": {
     "slide_type": ""
    },
    "tags": [
     "hide-input"
    ]
   },
   "outputs": [],
   "source": [
    "def get_logical_error_probability_simulated_GPU(block_sizes, physical_errors, n_shots, simulator = cirq.CliffordSimulator(), starting_state = '+', error_gate = cirq.Z):\n",
    "    \n",
    "    all_logical_errors = []\n",
    "    for block_size in block_sizes:\n",
    "        print(f\"Simulating block-size-{block_size} Shor code circuits\")\n",
    "        syndrome_table = get_shor_code_logical_error_probability_syndrome_table(block_size=block_size, starting_state = starting_state, error_gate = error_gate)\n",
    "        thisblock_size_logicalerrors = []\n",
    "        for physical_error in tqdm(physical_errors):\n",
    "            logical_error = simulate_with_syndrome_table_parallel_GPU_mlx(syndrome_table, n_qubits = block_size**2, error_probability = physical_error, n_shots = n_shots)\n",
    "            thisblock_size_logicalerrors.append(logical_error)\n",
    "        all_logical_errors.append(thisblock_size_logicalerrors)\n",
    "\n",
    "    return all_logical_errors"
   ]
  },
  {
   "cell_type": "code",
   "execution_count": 22,
   "metadata": {
    "editable": true,
    "slideshow": {
     "slide_type": ""
    },
    "tags": []
   },
   "outputs": [],
   "source": [
    "starting_state = '0'\n",
    "error_gate = cirq.Z\n",
    "block_sizes = [3]\n",
    "physical_errors = np.logspace(-5, 0, 10)  # 10^-5 to 10^0 in 10 logsteps"
   ]
  },
  {
   "cell_type": "code",
   "execution_count": 23,
   "metadata": {
    "editable": true,
    "slideshow": {
     "slide_type": ""
    },
    "tags": [
     "hide-input",
     "hide-output"
    ]
   },
   "outputs": [
    {
     "name": "stdout",
     "output_type": "stream",
     "text": [
      "Simulating block-size-3 Shor code circuits\n",
      "Getting syndromes for all possible error locations in block-size 3, |0>_L, error gate Z\n"
     ]
    },
    {
     "name": "stderr",
     "output_type": "stream",
     "text": [
      "100%|████████████████████████████████████████████████████████████████████████| 512/512 [00:00<00:00, 234748.98it/s]\n",
      "100%|██████████████████████████████████████████████████████████████████████████| 512/512 [00:00<00:00, 6717.23it/s]\n",
      "512it [00:00, 213510.01it/s]\n",
      "100%|██████████████████████████████████████████████████████████████████████████████| 10/10 [00:16<00:00,  1.68s/it]\n"
     ]
    }
   ],
   "source": [
    "all_logical_errors_0z = get_logical_error_probability_simulated_GPU(block_sizes, physical_errors, \n",
    "                                                             n_shots = 1_000_000_000, starting_state = starting_state, error_gate = error_gate)"
   ]
  },
  {
   "cell_type": "code",
   "execution_count": 24,
   "metadata": {
    "editable": true,
    "slideshow": {
     "slide_type": ""
    },
    "tags": []
   },
   "outputs": [],
   "source": [
    "starting_state = '0'\n",
    "error_gate = cirq.X\n",
    "block_sizes = [3]\n",
    "physical_errors = np.logspace(-5, 0, 10)  # 10^-5 to 10^0 in 10 logsteps"
   ]
  },
  {
   "cell_type": "code",
   "execution_count": 25,
   "metadata": {
    "editable": true,
    "slideshow": {
     "slide_type": ""
    },
    "tags": [
     "hide-input",
     "hide-output"
    ]
   },
   "outputs": [
    {
     "name": "stdout",
     "output_type": "stream",
     "text": [
      "Simulating block-size-3 Shor code circuits\n",
      "Getting syndromes for all possible error locations in block-size 3, |0>_L, error gate X\n"
     ]
    },
    {
     "name": "stderr",
     "output_type": "stream",
     "text": [
      "100%|████████████████████████████████████████████████████████████████████████| 512/512 [00:00<00:00, 261633.00it/s]\n",
      "100%|█████████████████████████████████████████████████████████████████████████| 512/512 [00:00<00:00, 20174.96it/s]\n",
      "512it [00:00, 190110.10it/s]\n",
      "100%|██████████████████████████████████████████████████████████████████████████████| 10/10 [00:16<00:00,  1.65s/it]\n"
     ]
    }
   ],
   "source": [
    "all_logical_errors_0x = get_logical_error_probability_simulated_GPU(block_sizes, physical_errors, \n",
    "                                                             n_shots = 1_000_000_000, starting_state = starting_state, error_gate = error_gate)"
   ]
  },
  {
   "cell_type": "code",
   "execution_count": 26,
   "metadata": {
    "editable": true,
    "slideshow": {
     "slide_type": ""
    },
    "tags": []
   },
   "outputs": [],
   "source": [
    "starting_state = '+'\n",
    "error_gate = cirq.Z\n",
    "block_sizes = [3]\n",
    "physical_errors = np.logspace(-5, 0, 10)  # 10^-5 to 10^0 in 10 logsteps"
   ]
  },
  {
   "cell_type": "code",
   "execution_count": 27,
   "metadata": {
    "editable": true,
    "slideshow": {
     "slide_type": ""
    },
    "tags": [
     "hide-input",
     "hide-output"
    ]
   },
   "outputs": [
    {
     "name": "stdout",
     "output_type": "stream",
     "text": [
      "Simulating block-size-3 Shor code circuits\n",
      "Getting syndromes for all possible error locations in block-size 3, |+>_L, error gate Z\n"
     ]
    },
    {
     "name": "stderr",
     "output_type": "stream",
     "text": [
      "100%|████████████████████████████████████████████████████████████████████████| 512/512 [00:00<00:00, 224069.66it/s]\n",
      "100%|█████████████████████████████████████████████████████████████████████████| 512/512 [00:00<00:00, 19386.52it/s]\n",
      "512it [00:00, 211137.91it/s]\n",
      "100%|██████████████████████████████████████████████████████████████████████████████| 10/10 [00:16<00:00,  1.65s/it]\n"
     ]
    }
   ],
   "source": [
    "all_logical_errors_pz = get_logical_error_probability_simulated_GPU(block_sizes, physical_errors, \n",
    "                                                             n_shots = 1_000_000_000, starting_state = starting_state, error_gate = error_gate)"
   ]
  },
  {
   "cell_type": "code",
   "execution_count": 28,
   "metadata": {
    "editable": true,
    "slideshow": {
     "slide_type": ""
    },
    "tags": [
     "hide-output"
    ]
   },
   "outputs": [],
   "source": [
    "starting_state = '+'\n",
    "error_gate = cirq.X\n",
    "block_sizes = [3]\n",
    "physical_errors = np.logspace(-5, 0, 10)  # 10^-5 to 10^0 in 10 logsteps"
   ]
  },
  {
   "cell_type": "code",
   "execution_count": 29,
   "metadata": {
    "editable": true,
    "slideshow": {
     "slide_type": ""
    },
    "tags": [
     "hide-output",
     "hide-input"
    ]
   },
   "outputs": [
    {
     "name": "stdout",
     "output_type": "stream",
     "text": [
      "Simulating block-size-3 Shor code circuits\n",
      "Getting syndromes for all possible error locations in block-size 3, |+>_L, error gate X\n"
     ]
    },
    {
     "name": "stderr",
     "output_type": "stream",
     "text": [
      "100%|████████████████████████████████████████████████████████████████████████| 512/512 [00:00<00:00, 220662.11it/s]\n",
      "100%|█████████████████████████████████████████████████████████████████████████| 512/512 [00:00<00:00, 20051.76it/s]\n",
      "512it [00:00, 179765.92it/s]\n",
      "100%|██████████████████████████████████████████████████████████████████████████████| 10/10 [00:16<00:00,  1.64s/it]\n"
     ]
    }
   ],
   "source": [
    "all_logical_errors_px = get_logical_error_probability_simulated_GPU(block_sizes, physical_errors, \n",
    "                                                             n_shots = 1_000_000_000, starting_state = starting_state, error_gate = error_gate)"
   ]
  },
  {
   "cell_type": "code",
   "execution_count": 30,
   "metadata": {},
   "outputs": [],
   "source": [
    "all_analytical_errors = get_logical_error_probability_analytical(block_sizes, physical_errors)"
   ]
  },
  {
   "cell_type": "code",
   "execution_count": 31,
   "metadata": {
    "editable": true,
    "slideshow": {
     "slide_type": ""
    },
    "tags": [
     "hide-input"
    ]
   },
   "outputs": [
    {
     "data": {
      "image/png": "[encoded data removed]",
      "text/plain": [
       "<Figure size 640x480 with 1 Axes>"
      ]
     },
     "metadata": {},
     "output_type": "display_data"
    }
   ],
   "source": [
    "plotter.loglog(physical_errors, all_logical_errors_0z[0], label = r'Shor code, $\\vert0\\rangle$, error: $Z$', marker='o', linewidth=2, markersize=8, color='red')\n",
    "plotter.loglog(physical_errors, all_logical_errors_0x[0], label = r'Shor code, $\\vert0\\rangle$, error: $X$', marker='o', linewidth=2, markersize=8, color='blue')\n",
    "plotter.loglog(physical_errors, all_logical_errors_pz[0], label = r'Shor code, $\\vert+\\rangle$, error: $Z$', marker='d', linewidth=2, markersize=8, color='red')\n",
    "plotter.loglog(physical_errors, all_logical_errors_px[0], label = r'Shor code, $\\vert+\\rangle$, error: $X$', marker='d', linewidth=2, markersize=8, color='blue')\n",
    "plotter.loglog(physical_errors, physical_errors, label = \"Unprotected qubit\", linestyle='--', linewidth=2, color='gray')\n",
    "plotter.loglog(physical_errors, all_analytical_errors[0], label = \"Analytical\", linestyle='--', linewidth=2, color='black')\n",
    "plotter.legend()\n",
    "plotter.xlim([physical_errors.min(), physical_errors.max()])\n",
    "plotter.ylim([1e-7, 1.1])\n",
    "plotter.xlabel('Physical error probability')\n",
    "plotter.ylabel('Logical error probability')\n",
    "plotter.tight_layout()\n",
    "plotter.show()"
   ]
  },
  {
   "cell_type": "markdown",
   "metadata": {},
   "source": [
    "With faster simulations, we are now able to see that the Shor code can bring logical errors down significantly as the physical error probability lowers. Note that the Shor code is able to suppress both $X$ and $Z$ errors, independent of the starting state. One of the exercises below encourages you to consider why there is a $\\sim3\\times$ gap between the case of $X$ and $Z$ errors -- this gap does not depend on the starting state."
   ]
  },
  {
   "cell_type": "markdown",
   "metadata": {
    "editable": true,
    "slideshow": {
     "slide_type": ""
    },
    "tags": []
   },
   "source": [
    "**Exercises for the reader**\n",
    "\n",
    "1. Note that the logical error probabilities for $Z$ errors and $X$ errors are $\\sim3$x apart in the above figure. Can you explain this difference? (Hint: consider the number of ways that logical errors can occur within blocks and between blocks).\n",
    "2. Would increasing the block size in the Shor code achieve better results?\n",
    "3. At what level of physical error probability does the Shor code outperform the bare unprotected qubit?"
   ]
  },
  {
   "cell_type": "markdown",
   "metadata": {},
   "source": [
    "### <font color='red'>References</font>\n",
    "\n",
    "1. P. W. Shor, Scheme for reducing decoherence in quantum computer memory. Phys. Rev. A 52, R2493 (1995). [PRA article](https://journals.aps.org/pra/abstract/10.1103/PhysRevA.52.R2493)\n",
    "2. Calderbank and Shor, Good error-correcting codes exist (1995). [arXiv:quant-ph/9512032](https://arxiv.org/abs/quant-ph/9512032)"
   ]
  },
  {
   "cell_type": "markdown",
   "metadata": {
    "editable": true,
    "slideshow": {
     "slide_type": ""
    },
    "tags": []
   },
   "source": [
    "---\n",
    "### Version History\n",
    "- v0: Sep 12, 2025, [github/@aasfaw](https:github.com/aasfaw)\n",
    "- v1: Sep 12, 2025, [github/@aasfaw](https:github.com/aasfaw) readability improvements, syndrome check circuits image, faster simulations"
   ]
  }
 ],
 "metadata": {
  "kernelspec": {
   "display_name": "deltakit-textbook",
   "language": "python",
   "name": "deltakit-textbook"
  },
  "language_info": {
   "codemirror_mode": {
    "name": "ipython",
    "version": 3
   },
   "file_extension": ".py",
   "mimetype": "text/x-python",
   "name": "python",
   "nbconvert_exporter": "python",
   "pygments_lexer": "ipython3",
   "version": "3.13.3"
  },
  "panel-cell-order": [
   "d6d59e9a",
   "de100b38",
   "0e8c1ad2",
   "5a4509e3",
   "42f8e058"
  ]
 },
 "nbformat": 4,
 "nbformat_minor": 4
}
