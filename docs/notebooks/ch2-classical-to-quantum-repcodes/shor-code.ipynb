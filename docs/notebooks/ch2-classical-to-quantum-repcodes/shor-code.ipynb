{
 "cells": [
  {
   "cell_type": "markdown",
   "metadata": {},
   "source": [
    "# <font color='green'>Combining bit-flip and phase-flip repetition codes: Shor's 9-qubit code</font>\n",
    "\n",
    "So far, we have seen how to encode qubits to protect from bit-flip and phase-flip errors, but only one of these two kinds of errors at a time. The Shor code, discovered by Peter Shor in 1995, was the first quantum error-correcting code that could protect against both bit-flip and phase-flip errors. It achieves this through a clever technique called **concatenation** -- essentially nesting one code inside another.\n",
    "\n",
    "### <font color='red'>Encoding procedure</font>\n",
    "\n",
    "The Shor code uses 9 physical qubits to encode 1 logical qubit:\n",
    "1. First, it encodes against phase-flip errors (like the 3-qubit phase-flip code)\n",
    "2. Then, it encodes each of those 3 qubits against bit-flip errors (using the 3-qubit bit-flip code)\n",
    "\n",
    "This gives us 3 × 3 = 9 physical qubits total which will serve as the data qubits. Here, we build the Shor code from scratch, and simulate the logical error probability of the Shor code for various physical error probabilities. In the process, we will also use 8 additional ancillary qubits, for a total of 17 physical qubits."
   ]
  },
  {
   "cell_type": "code",
   "execution_count": 1,
   "metadata": {},
   "outputs": [],
   "source": [
    "import numpy as np, random\n",
    "import matplotlib.pyplot as plotter\n",
    "import cirq\n",
    "from math import floor, comb\n",
    "from myMWPM import MWPMDecoder1D\n",
    "import time"
   ]
  },
  {
   "cell_type": "code",
   "execution_count": 2,
   "metadata": {},
   "outputs": [],
   "source": [
    "def create_shor_encoder(block_size = 3):\n",
    "\n",
    "    qubits = cirq.LineQubit.range(block_size * block_size)\n",
    "    circuit = cirq.Circuit()\n",
    "    # outer phase encoding\n",
    "    for i in range(1, block_size):\n",
    "        circuit.append([\n",
    "            cirq.CNOT(qubits[0], qubits[block_size * i]),\n",
    "    ])\n",
    "\n",
    "    circuit.append(cirq.Moment(\n",
    "                cirq.H.on_each(*[qubits[i*block_size] for i in range(block_size)])\n",
    "        )\n",
    "    )\n",
    "    \n",
    "    # inner bit-flip encoding\n",
    "    for i in range(block_size):\n",
    "        block_start = i * block_size\n",
    "        for j in range(1, block_size):\n",
    "            circuit.append([\n",
    "                cirq.CNOT(qubits[block_start], qubits[block_start + j]),\n",
    "            ])\n",
    "    return circuit"
   ]
  },
  {
   "cell_type": "code",
   "execution_count": 3,
   "metadata": {},
   "outputs": [
    {
     "name": "stdout",
     "output_type": "stream",
     "text": [
      "0: ───@───@───H───@───@───\n",
      "      │   │       │   │\n",
      "1: ───┼───┼───────X───┼───\n",
      "      │   │           │\n",
      "2: ───┼───┼───────────X───\n",
      "      │   │\n",
      "3: ───X───┼───H───@───@───\n",
      "          │       │   │\n",
      "4: ───────┼───────X───┼───\n",
      "          │           │\n",
      "5: ───────┼───────────X───\n",
      "          │\n",
      "6: ───────X───H───@───@───\n",
      "                  │   │\n",
      "7: ───────────────X───┼───\n",
      "                      │\n",
      "8: ───────────────────X───\n"
     ]
    }
   ],
   "source": [
    "encoder = create_shor_encoder(block_size = 3)\n",
    "print(encoder)"
   ]
  },
  {
   "cell_type": "code",
   "execution_count": 4,
   "metadata": {},
   "outputs": [],
   "source": [
    "def get_shor_bitflip_syndrome_measurement(block_size = 3):\n",
    "    \n",
    "    circuit = cirq.Circuit()\n",
    "    data_qubits = cirq.LineQubit.range(block_size * block_size)\n",
    "    bitflip_ancilla_start_index = len(data_qubits)\n",
    "    bitflip_ancilla_qubits = cirq.LineQubit.range(bitflip_ancilla_start_index, bitflip_ancilla_start_index + (block_size - 1)*block_size)\n",
    "    \n",
    "    for block_index in range(block_size):\n",
    "        for within_block_index in range(block_size-1):\n",
    "            data_qubit_index = block_index * block_size + within_block_index\n",
    "            ancilla_index = block_index * (block_size-1) + within_block_index\n",
    "            circuit.append([\n",
    "                cirq.CNOT(data_qubits[data_qubit_index], bitflip_ancilla_qubits[ancilla_index]),\n",
    "                cirq.CNOT(data_qubits[data_qubit_index + 1], bitflip_ancilla_qubits[ancilla_index]),\n",
    "            ])\n",
    "            # circuit.append(cirq.Moment(cirq.I.on_each(*data_qubits)))\n",
    "\n",
    "    circuit.append(cirq.measure(*bitflip_ancilla_qubits, key = 'bitflip-syndrome'))\n",
    "\n",
    "    return circuit"
   ]
  },
  {
   "cell_type": "code",
   "execution_count": 5,
   "metadata": {},
   "outputs": [
    {
     "name": "stdout",
     "output_type": "stream",
     "text": [
      "       ┌───┐   ┌───┐   ┌───┐   ┌───┐\n",
      "0: ─────@──────────────────────────────────────────────────────\n",
      "        │\n",
      "1: ─────┼───────@───────@──────────────────────────────────────\n",
      "        │       │       │\n",
      "2: ─────┼───────┼───────┼───────@──────────────────────────────\n",
      "        │       │       │       │\n",
      "3: ─────┼@──────┼───────┼───────┼──────────────────────────────\n",
      "        ││      │       │       │\n",
      "4: ─────┼┼──────┼@──────┼@──────┼──────────────────────────────\n",
      "        ││      ││      ││      │\n",
      "5: ─────┼┼──────┼┼──────┼┼──────┼@─────────────────────────────\n",
      "        ││      ││      ││      ││\n",
      "6: ─────┼┼@─────┼┼──────┼┼──────┼┼─────────────────────────────\n",
      "        │││     ││      ││      ││\n",
      "7: ─────┼┼┼─────┼┼@─────┼┼@─────┼┼─────────────────────────────\n",
      "        │││     │││     │││     ││\n",
      "8: ─────┼┼┼─────┼┼┼─────┼┼┼─────┼┼@────────────────────────────\n",
      "        │││     │││     │││     │││\n",
      "9: ─────X┼┼─────X┼┼─────┼┼┼─────┼┼┼────M('bitflip-syndrome')───\n",
      "         ││      ││     │││     │││    │\n",
      "10: ─────┼┼──────┼┼─────X┼┼─────X┼┼────M───────────────────────\n",
      "         ││      ││      ││      ││    │\n",
      "11: ─────X┼──────X┼──────┼┼──────┼┼────M───────────────────────\n",
      "          │       │      ││      ││    │\n",
      "12: ──────┼───────┼──────X┼──────X┼────M───────────────────────\n",
      "          │       │       │       │    │\n",
      "13: ──────X───────X───────┼───────┼────M───────────────────────\n",
      "                          │       │    │\n",
      "14: ──────────────────────X───────X────M───────────────────────\n",
      "       └───┘   └───┘   └───┘   └───┘\n"
     ]
    }
   ],
   "source": [
    "bitflip_syndrome_meas = get_shor_bitflip_syndrome_measurement(block_size = 3)\n",
    "print(bitflip_syndrome_meas)"
   ]
  },
  {
   "cell_type": "code",
   "execution_count": 6,
   "metadata": {},
   "outputs": [],
   "source": [
    "def get_shor_phaseflip_syndrome_measurement(block_size = 3):\n",
    "    \n",
    "    circuit = cirq.Circuit()\n",
    "    data_qubits = cirq.LineQubit.range(block_size * block_size)\n",
    "    bitflip_ancilla_start_index = len(data_qubits)\n",
    "    bitflip_ancilla_qubits = cirq.LineQubit.range(bitflip_ancilla_start_index, bitflip_ancilla_start_index + (block_size - 1) * block_size)\n",
    "    phaseflip_ancilla_start_index = len(data_qubits) + len(bitflip_ancilla_qubits)\n",
    "    phaseflip_ancilla_qubits = cirq.LineQubit.range(phaseflip_ancilla_start_index, phaseflip_ancilla_start_index + (block_size - 1))\n",
    "\n",
    "    circuit.append(cirq.Moment(cirq.H.on_each(*data_qubits)))\n",
    "    # block 0 flips all phaseflip ancillas\n",
    "    for data_qubit_index in range(block_size):\n",
    "        for phaseflip_ancilla_index in range(block_size - 1):\n",
    "            circuit.append(\n",
    "                cirq.CNOT(data_qubits[data_qubit_index], phaseflip_ancilla_qubits[phaseflip_ancilla_index])\n",
    "            )\n",
    "            # circuit.append(cirq.Moment(cirq.I.on_each(*phaseflip_ancilla_qubits)))\n",
    "\n",
    "\n",
    "    for block_index in range(1, block_size):\n",
    "        data_qubit_start_index = block_size * block_index\n",
    "        for data_qubit_index in range(data_qubit_start_index, data_qubit_start_index + block_size):\n",
    "            circuit.append(\n",
    "                cirq.CNOT(data_qubits[data_qubit_index], phaseflip_ancilla_qubits[block_index - 1])\n",
    "            )\n",
    "            # circuit.append(cirq.Moment(cirq.I.on_each(*phaseflip_ancilla_qubits)))\n",
    "\n",
    "    circuit.append(cirq.Moment(cirq.H.on_each(*data_qubits)))\n",
    "    circuit.append(cirq.measure(*phaseflip_ancilla_qubits, key = 'phaseflip-syndrome'))\n",
    "   \n",
    "    return circuit"
   ]
  },
  {
   "cell_type": "code",
   "execution_count": 7,
   "metadata": {},
   "outputs": [
    {
     "name": "stdout",
     "output_type": "stream",
     "text": [
      "               ┌──┐   ┌──┐   ┌──┐   ┌──┐   ┌──┐\n",
      "0: ────H───@────@─────────────────────────────────────H─────────────────────────\n",
      "           │    │\n",
      "1: ────H───┼────┼@─────@──────────────────────────────H─────────────────────────\n",
      "           │    ││     │\n",
      "2: ────H───┼────┼┼─────┼@─────@───────────────────────H─────────────────────────\n",
      "           │    ││     ││     │\n",
      "3: ────H───┼────┼┼─────┼┼─────┼@──────────────────────H─────────────────────────\n",
      "           │    ││     ││     ││\n",
      "4: ────H───┼────┼┼─────┼┼─────┼┼─────@────────────────H─────────────────────────\n",
      "           │    ││     ││     ││     │\n",
      "5: ────H───┼────┼┼─────┼┼─────┼┼─────┼──────@─────────H─────────────────────────\n",
      "           │    ││     ││     ││     │      │\n",
      "6: ────H───┼────┼┼─────┼┼─────┼┼─────┼@─────┼─────────H─────────────────────────\n",
      "           │    ││     ││     ││     ││     │\n",
      "7: ────H───┼────┼┼─────┼┼─────┼┼─────┼┼─────┼@────────H─────────────────────────\n",
      "           │    ││     ││     ││     ││     ││\n",
      "8: ────H───┼────┼┼─────┼┼─────┼┼─────┼┼─────┼┼────@───H─────────────────────────\n",
      "           │    ││     ││     ││     ││     ││    │\n",
      "15: ───────X────┼X─────┼X─────┼X─────X┼─────X┼────┼───M('phaseflip-syndrome')───\n",
      "                │      │      │       │      │    │   │\n",
      "16: ────────────X──────X──────X───────X──────X────X───M─────────────────────────\n",
      "               └──┘   └──┘   └──┘   └──┘   └──┘\n"
     ]
    }
   ],
   "source": [
    "phaseflip_syndrome_meas = get_shor_phaseflip_syndrome_measurement(block_size = 3)\n",
    "print(phaseflip_syndrome_meas)"
   ]
  },
  {
   "cell_type": "code",
   "execution_count": 8,
   "metadata": {},
   "outputs": [],
   "source": [
    "def create_initial_state(starting_state = '+'):\n",
    "    \n",
    "    starting_circuit = cirq.Circuit()\n",
    "    starting_qubit = cirq.LineQubit(0)\n",
    "\n",
    "    if starting_state == '0':\n",
    "        starting_circuit.append(cirq.Moment(cirq.I(starting_qubit)))\n",
    "    elif starting_state == '1':\n",
    "        starting_circuit.append(cirq.Moment(cirq.X(starting_qubit)))\n",
    "    elif starting_state == '+':\n",
    "        starting_circuit.append(cirq.Moment(cirq.H(starting_qubit)))\n",
    "    elif starting_state == '-':\n",
    "        starting_circuit.append(cirq.Moment(cirq.H(starting_qubit)))\n",
    "        starting_circuit.append(cirq.Moment(cirq.Z(starting_qubit)))\n",
    "\n",
    "    return starting_circuit"
   ]
  },
  {
   "cell_type": "code",
   "execution_count": 9,
   "metadata": {},
   "outputs": [
    {
     "data": {
      "text/html": [
       "<pre style=\"overflow: auto; white-space: pre;\">0: ───H───</pre>"
      ],
      "text/plain": [
       "0: ───H───"
      ]
     },
     "execution_count": 9,
     "metadata": {},
     "output_type": "execute_result"
    }
   ],
   "source": [
    "create_initial_state('+')"
   ]
  },
  {
   "cell_type": "code",
   "execution_count": 10,
   "metadata": {},
   "outputs": [],
   "source": [
    "def create_noise_circuit(p = 0.1, block_size = 3):\n",
    "\n",
    "    def flip(p):\n",
    "        return 1 if random.random() < p else 0\n",
    "    \n",
    "    noise_circuit = cirq.Circuit()\n",
    "    data_qubits = cirq.LineQubit.range(block_size * block_size)\n",
    "\n",
    "    has_error = [flip(p) for _ in range(len(data_qubits))]\n",
    "    error_indices = [i for i, x in enumerate(has_error) if x == 1]\n",
    "    errors = []\n",
    "    for error_index in error_indices:\n",
    "        random_error = np.random.choice([cirq.Z])\n",
    "        noise_circuit.append(random_error(data_qubits[error_index]))\n",
    "        errors.append(random_error)\n",
    "\n",
    "    return noise_circuit, [error_indices, errors]"
   ]
  },
  {
   "cell_type": "code",
   "execution_count": 11,
   "metadata": {},
   "outputs": [],
   "source": [
    "def get_shor_code_logical_error_probability(p = 0.1, block_size = 3, n_shots = 1000, simulator = cirq.CliffordSimulator(), starting_state = '+'):\n",
    "    print(starting_state)\n",
    "    starting_circuit = create_initial_state(starting_state = starting_state)\n",
    "    encoder_circuit = create_shor_encoder(block_size = block_size)\n",
    "    bitflip_syndrome_circuit = get_shor_bitflip_syndrome_measurement(block_size = block_size)\n",
    "    phaseflip_syndrome_circuit = get_shor_phaseflip_syndrome_measurement(block_size = block_size)\n",
    "    \n",
    "    decoder = MWPMDecoder1D(num_qubits=block_size)\n",
    "\n",
    "    num_logical_errors = 0\n",
    "    for i in range(n_shots):\n",
    "        full_shor_circuit = cirq.Circuit()\n",
    "        noise_circuit, noise_applied = create_noise_circuit(p = p, block_size = block_size)\n",
    "        #print(noise_applied)\n",
    "        full_shor_circuit = starting_circuit + encoder_circuit + noise_circuit + bitflip_syndrome_circuit + phaseflip_syndrome_circuit\n",
    "    \n",
    "        result = simulator.run(full_shor_circuit, repetitions = 1)\n",
    "        bitflip_syndromes = result.measurements['bitflip-syndrome'][0]\n",
    "        phaseflip_syndromes = result.measurements['phaseflip-syndrome'][0]\n",
    "    \n",
    "        decoded_bitflip_errors = []\n",
    "        # decoding bit flips\n",
    "        for i in range(0, len(bitflip_syndromes), block_size-1):  # Slice list in steps of block_size\n",
    "            these_syndromes = bitflip_syndromes[i:i+block_size-1]\n",
    "            withinblock_error_indices = decoder.decode(these_syndromes)\n",
    "            error_locations = [int(i // (block_size-1))*block_size + x for x in withinblock_error_indices]\n",
    "            for error_loc in error_locations:\n",
    "                decoded_bitflip_errors.append([error_loc, cirq.X])\n",
    "    \n",
    "        # decoding phase flips\n",
    "        block_errors_0 = [0]\n",
    "        block_errors_1 = [1]\n",
    "        for j in range(len(phaseflip_syndromes)):\n",
    "            # assume block 0 has no phase flip errors\n",
    "            block_errors_0.append(0 ^ phaseflip_syndromes[j])\n",
    "            block_errors_1.append(1 ^ phaseflip_syndromes[j])\n",
    "        # pick the option with minimum weight\n",
    "        if sum(block_errors_0) <= sum(block_errors_1):\n",
    "            block_errors_final = block_errors_0\n",
    "        else:\n",
    "            block_errors_final = block_errors_1\n",
    "    \n",
    "        decoded_phaseflip_error_blocks = [i for i, thisblock_error in enumerate(block_errors_final) if thisblock_error == 1]\n",
    "    \n",
    "        # decide whether or not a logical error occurred\n",
    "        # since the bit flip blocks are encoded as 000+111, any number of bit flip errors within each block\n",
    "        # can be undone by finding the odd ones using a pairwise parity check, and reversing the error\n",
    "        # back into 000+111. there is information in the syndrome measurements to help us do this.\n",
    "        # the phase-flip is trickier. if the blocks where phase flips happened are detected, and the specific qubits identified, \n",
    "        # then a single Z in the block can undo the flip and we're all good. but if the phase flip is not identified\n",
    "        # for example because two phase-flips happened within a block, then a logical error happens\n",
    "    \n",
    "        is_logical_error = False\n",
    "        qubits_with_errors, qubit_errors = noise_applied\n",
    "\n",
    "        \n",
    "        # bitflip_error_logical_blocks = []\n",
    "        # for qubit_with_error, qubit_error in zip(qubits_with_errors, qubit_errors):\n",
    "            # if qubit_error == cirq.X:\n",
    "                # if [qubit_with_error, cirq.X] not in decoded_bitflip_errors:\n",
    "                    # thisqubit_block = qubit_with_error // block_size\n",
    "                    # bitflip_error_logical_blocks.append(thisqubit_block)\n",
    "        # bitflip_error_logical_blocks = list(set(bitflip_error_logical_blocks))\n",
    "        \n",
    "        for qubit_with_error, qubit_error in zip(qubits_with_errors, qubit_errors):\n",
    "            if qubit_error == cirq.Z:\n",
    "                thisqubit_block = qubit_with_error // block_size\n",
    "                if thisqubit_block not in decoded_phaseflip_error_blocks:\n",
    "                    is_logical_error = True\n",
    "    \n",
    "        if is_logical_error:\n",
    "            num_logical_errors += 1\n",
    "    return num_logical_errors * 1./ n_shots"
   ]
  },
  {
   "cell_type": "code",
   "execution_count": 12,
   "metadata": {},
   "outputs": [
    {
     "name": "stdout",
     "output_type": "stream",
     "text": [
      "+\n"
     ]
    },
    {
     "data": {
      "text/plain": [
       "0.0037"
      ]
     },
     "execution_count": 12,
     "metadata": {},
     "output_type": "execute_result"
    }
   ],
   "source": [
    "get_shor_code_logical_error_probability(p = 0.01, block_size = 3, n_shots = 10000, starting_state = '+')"
   ]
  },
  {
   "cell_type": "code",
   "execution_count": 13,
   "metadata": {},
   "outputs": [
    {
     "name": "stdout",
     "output_type": "stream",
     "text": [
      "-\n"
     ]
    },
    {
     "data": {
      "text/plain": [
       "0.0037"
      ]
     },
     "execution_count": 13,
     "metadata": {},
     "output_type": "execute_result"
    }
   ],
   "source": [
    "get_shor_code_logical_error_probability(p = 0.01, block_size = 3, n_shots = 10000, starting_state = '-')"
   ]
  },
  {
   "cell_type": "code",
   "execution_count": 14,
   "metadata": {},
   "outputs": [
    {
     "name": "stdout",
     "output_type": "stream",
     "text": [
      "0\n"
     ]
    },
    {
     "data": {
      "text/plain": [
       "0.0032"
      ]
     },
     "execution_count": 14,
     "metadata": {},
     "output_type": "execute_result"
    }
   ],
   "source": [
    "get_shor_code_logical_error_probability(p = 0.01, block_size = 3, n_shots = 10000, starting_state = '0')"
   ]
  },
  {
   "cell_type": "code",
   "execution_count": 15,
   "metadata": {},
   "outputs": [
    {
     "name": "stdout",
     "output_type": "stream",
     "text": [
      "1\n"
     ]
    },
    {
     "data": {
      "text/plain": [
       "0.0035"
      ]
     },
     "execution_count": 15,
     "metadata": {},
     "output_type": "execute_result"
    }
   ],
   "source": [
    "get_shor_code_logical_error_probability(p = 0.01, block_size = 3, n_shots = 10000, starting_state = '1')"
   ]
  },
  {
   "cell_type": "code",
   "execution_count": 16,
   "metadata": {},
   "outputs": [],
   "source": [
    "def get_logical_error_probability_simulated(block_sizes, physical_errors, n_shots, simulator = cirq.CliffordSimulator(), starting_state = '+'):\n",
    "    \n",
    "    all_logical_errors = []\n",
    "    for block_size in block_sizes:\n",
    "        print(f\"Simulating block-size-{block_size} Shor code circuits\")\n",
    "        thisblock_size_logicalerrors = []\n",
    "        for physical_error in physical_errors:\n",
    "            print(f\"Physical error probability = {physical_error}\")\n",
    "            t = time.time()\n",
    "            logical_error = get_shor_code_logical_error_probability(\n",
    "                                p = physical_error,\n",
    "                                block_size = block_size,\n",
    "                                n_shots = n_shots,\n",
    "                                simulator = simulator,\n",
    "                                starting_state = starting_state\n",
    "                            )\n",
    "            elapsed = time.time() - t\n",
    "            print(f\"Took {elapsed:.0f} seconds\")\n",
    "\n",
    "            thisblock_size_logicalerrors.append(logical_error)\n",
    "            print(f\"p = {physical_error}, p_L = {logical_error}\")\n",
    "        all_logical_errors.append(thisblock_size_logicalerrors)\n",
    "\n",
    "    return all_logical_errors"
   ]
  },
  {
   "cell_type": "code",
   "execution_count": 17,
   "metadata": {},
   "outputs": [
    {
     "name": "stdout",
     "output_type": "stream",
     "text": [
      "Simulating block-size-3 Shor code circuits\n",
      "Physical error probability = 0.001\n",
      "+\n",
      "Took 86 seconds\n",
      "p = 0.001, p_L = 6e-05\n",
      "Physical error probability = 0.0021544346900318843\n",
      "+\n",
      "Took 85 seconds\n",
      "p = 0.0021544346900318843, p_L = 0.00024\n",
      "Physical error probability = 0.004641588833612777\n",
      "+\n",
      "Took 86 seconds\n",
      "p = 0.004641588833612777, p_L = 0.00082\n",
      "Physical error probability = 0.01\n",
      "+\n",
      "Took 87 seconds\n",
      "p = 0.01, p_L = 0.0033\n",
      "Physical error probability = 0.021544346900318832\n",
      "+\n",
      "Took 87 seconds\n",
      "p = 0.021544346900318832, p_L = 0.01464\n",
      "Physical error probability = 0.046415888336127774\n",
      "+\n",
      "Took 87 seconds\n",
      "p = 0.046415888336127774, p_L = 0.06196\n",
      "Physical error probability = 0.1\n",
      "+\n",
      "Took 88 seconds\n",
      "p = 0.1, p_L = 0.22682\n",
      "Physical error probability = 0.21544346900318823\n",
      "+\n",
      "Took 89 seconds\n",
      "p = 0.21544346900318823, p_L = 0.60002\n",
      "Physical error probability = 0.46415888336127775\n",
      "+\n",
      "Took 92 seconds\n",
      "p = 0.46415888336127775, p_L = 0.96056\n",
      "Physical error probability = 1.0\n",
      "+\n",
      "Took 96 seconds\n",
      "p = 1.0, p_L = 1.0\n"
     ]
    }
   ],
   "source": [
    "starting_state = '+'\n",
    "block_sizes = [3]\n",
    "physical_errors = np.logspace(-3, 0, 10)  # 10^-3 = 0.001 to 10^0 = 1 in 10 steps\n",
    "# physical_errors = np.array([0.01])\n",
    "simulator = cirq.CliffordSimulator()\n",
    "all_logical_errors = get_logical_error_probability_simulated(block_sizes, physical_errors, \n",
    "                                                             n_shots = 50000, simulator = simulator,\n",
    "                                                             starting_state = starting_state)"
   ]
  },
  {
   "cell_type": "code",
   "execution_count": 18,
   "metadata": {},
   "outputs": [],
   "source": [
    "def get_logical_error_probability_analytical(block_sizes, physical_errors):\n",
    "    all_analytical_errors = []\n",
    "    for block_size in block_sizes:\n",
    "        analytical_success = 0\n",
    "        for i in range(floor(block_size/2.)+1):\n",
    "            analytical_success += comb(block_size**2, i) * physical_errors**i * (1-physical_errors)**(block_size**2-i)\n",
    "        analytical_errors = 1-analytical_success\n",
    "        all_analytical_errors.append(analytical_errors)\n",
    "\n",
    "    return all_analytical_errors"
   ]
  },
  {
   "cell_type": "code",
   "execution_count": 19,
   "metadata": {},
   "outputs": [],
   "source": [
    "all_analytical_errors = get_logical_error_probability_analytical(block_sizes, physical_errors)"
   ]
  },
  {
   "cell_type": "code",
   "execution_count": 20,
   "metadata": {},
   "outputs": [],
   "source": [
    "def plot_logical_error_probabilities(block_sizes, physical_errors, all_logical_errors, all_analytical_errors):\n",
    "    \n",
    "    plotter.figure(figsize=(10, 8))\n",
    "    colors = plotter.cm.viridis(np.linspace(0, 0.8, len(block_sizes)))\n",
    "    \n",
    "    plotter.loglog(physical_errors, physical_errors, label = 'Unprotected qubit',\n",
    "                      linewidth=2, linestyle = '--', color='gray',\n",
    "                      )\n",
    "    for block_size, logical_errors, analytical_errors, color in zip(block_sizes, all_logical_errors, all_analytical_errors, colors):\n",
    "        plotter.loglog(physical_errors, logical_errors, label = f'Shor code (block-size = {block_size}) simulated',\n",
    "                      marker='o', linewidth=2, markersize=8,\n",
    "                      color=color,\n",
    "                      )\n",
    "        plotter.loglog(physical_errors, analytical_errors, label = f'Shor code(block-size = {block_size}) analytical',\n",
    "                      linewidth=2, linestyle = '--', color=color,\n",
    "                      )\n",
    "    \n",
    "    plotter.legend()\n",
    "    plotter.xlim([physical_errors.min(), physical_errors.max()])\n",
    "    plotter.xlabel('Physical error probability')\n",
    "    plotter.ylabel('Logical error probability')\n",
    "    plotter.tight_layout()\n",
    "    plotter.show()"
   ]
  },
  {
   "cell_type": "code",
   "execution_count": 21,
   "metadata": {},
   "outputs": [
    {
     "data": {
      "image/png": "[encoded data removed]",
      "text/plain": [
       "<Figure size 1000x800 with 1 Axes>"
      ]
     },
     "metadata": {},
     "output_type": "display_data"
    }
   ],
   "source": [
    "plot_logical_error_probabilities(\n",
    "    block_sizes,\n",
    "    physical_errors,\n",
    "    all_logical_errors,\n",
    "    all_analytical_errors\n",
    ")"
   ]
  }
 ],
 "metadata": {
  "kernelspec": {
   "display_name": "Python 3 (ipykernel)",
   "language": "python",
   "name": "python3"
  },
  "language_info": {
   "codemirror_mode": {
    "name": "ipython",
    "version": 3
   },
   "file_extension": ".py",
   "mimetype": "text/x-python",
   "name": "python",
   "nbconvert_exporter": "python",
   "pygments_lexer": "ipython3",
   "version": "3.13.5"
  },
  "panel-cell-order": [
   "d6d59e9a",
   "de100b38",
   "0e8c1ad2",
   "5a4509e3",
   "42f8e058"
  ]
 },
 "nbformat": 4,
 "nbformat_minor": 4
}
