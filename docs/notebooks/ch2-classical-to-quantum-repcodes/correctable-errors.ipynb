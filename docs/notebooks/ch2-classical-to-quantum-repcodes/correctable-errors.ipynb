{
 "cells": [
  {
   "cell_type": "markdown",
   "id": "0c053507-4fd9-49f4-9fd2-9e0fb8a8e530",
   "metadata": {},
   "source": [
    "# <font color='green'>Correctable errors</font>\n",
    "\n",
    "So far, you have learned how classical repetition codes protect information by redundantly encoding a single bit into multiple copies. You also saw that both majority voting and Minimum-Weight Perfect Matching (MWPM) decoders achieve identical results for classical repetition codes. You have also seen how these concepts translate to the quantum world, where the error landscape is richer, by looking at bit-flip and phase-flip errors.\n",
    "\n",
    "In the classical setting, the only error is a bit flip. In the quantum setting, there are many possible error processes. Some can be addressed by quantum error correction (QEC); others, especially strongly correlated errors, can violate common decoder assumptions and therefore reduce or impede QEC -- motivating improvements to the hardware, control stack, and decoders in addition to QEC (e.g., correlated-error studies in superconducting devices like [McEwen et al (2021)](https://arxiv.org/pdf/2104.05219)).\n",
    "\n",
    "Generally, we’ll model errors at these circuit touch points:\n",
    "\n",
    "- After a gate: an arbitrary single-qubit error following an intended 1-qubit gate,\n",
    "- Before a measurement: an arbitrary single-qubit error preceding readout,\n",
    "- After state preparation: an arbitrary single-qubit error following a well-defined initial state, and\n",
    "- After a two-qubit gate: an arbitrary two-qubit error following an intended 2-qubit gate.\n",
    "\n",
    "However, it is worth noting that there are even more complex errors that we will not capture in this framework.\n",
    "\n",
    "### <font color='red'>Decomposing errors</font>\n",
    "An arbitrary single-qubit $2\\times2$ operator $G_1$ can be decomposed as a sum of the identity $I$ and Pauli matrices $X$, $Y$ and $Z$:\n",
    "\n",
    "$G_1 = a\\cdot I + b\\cdot X $ + $c \\cdot Y$ + $d \\cdot Z$.\n",
    "\n",
    "with complex coefficients $a,b,c$ and $d$.\n",
    "\n",
    "Recalling that the Pauli $Y = iXZ$, the above can be written down as\n",
    "\n",
    "$G_1 = a\\cdot I + b\\cdot X $ + $ci \\cdot XZ$ + $d \\cdot Z$.\n",
    "\n",
    "Similarly, a two-qubit $4\\times4$ operator can be decomposed into the terms that are products of the Pauli operators of both qubits (eg $I_1\\otimes Z_2$, $X_1\\otimes Y_2$). There are 16 such terms.\n",
    "\n",
    "Both decompositions highlight a key point about quantum error correction: if we can correct $X$ and $Z$ errors, every other error described above can also be corrected since every other error can be described as a complex superposition of $X$ and $Z$ errors. For this reason, the remainder of our discussion will focus on addressing these two kinds of errors, known as bit flips (because $X\\vert0\\rangle = \\vert1\\rangle, X\\vert1\\rangle = \\vert0\\rangle$) and phase flips ($Z\\vert+\\rangle = \\vert-\\rangle, Z\\vert-\\rangle = \\vert+\\rangle$), respectively.\n",
    "\n",
    "The quantum repetition codes that we have seen so far can only correct one kind of error at a time. We will eventually need to find a way to address both at the same time. The next chapter will introduce the surface code which achieves exactly this goal."
   ]
  },
  {
   "cell_type": "markdown",
   "id": "b92e6524-3337-41ba-99f7-73cf677dd7c5",
   "metadata": {},
   "source": [
    "---\n",
    "### Version History\n",
    "- v0: Sep 12, 2025, [github/@aasfaw](https:github.com/aasfaw)\n",
    "- v1: Sep 16, 2025, [github/@aasfaw](https:github.com/aasfaw) edits capturing feedback from Earl Campbell and Ophelia Crawford"
   ]
  }
 ],
 "metadata": {
  "kernelspec": {
   "display_name": "Python 3 (ipykernel)",
   "language": "python",
   "name": "python3"
  },
  "language_info": {
   "codemirror_mode": {
    "name": "ipython",
    "version": 3
   },
   "file_extension": ".py",
   "mimetype": "text/x-python",
   "name": "python",
   "nbconvert_exporter": "python",
   "pygments_lexer": "ipython3",
   "version": "3.13.7"
  }
 },
 "nbformat": 4,
 "nbformat_minor": 5
}
