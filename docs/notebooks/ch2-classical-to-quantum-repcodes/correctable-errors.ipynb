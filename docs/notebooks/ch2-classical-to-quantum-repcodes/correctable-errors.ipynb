{
 "cells": [
  {
   "cell_type": "markdown",
   "id": "0c053507-4fd9-49f4-9fd2-9e0fb8a8e530",
   "metadata": {},
   "source": [
    "# <font color='green'>Correctable errors</font>\n",
    "\n",
    "So far, you've learned how classical repetition codes protect information by redundantly encoding a single bit into multiple copies. You also saw that both majority voting and minimum-weight perfect matching (MWPM) decoders achieve identical results for classical repetition codes. Now, we'll explore how these concepts translate to the quantum world, where the situation becomes richer and more nuanced.\n",
    "\n",
    "In the classical setting, the only possible error was a flipped bit. In the quantum setting, there are generally many possible kinds of errors. Some of these can be addressed by quantum error correction, and we will keep the following discussion focused on them. However, it is worthwhile to note that some errors cannot generally be corrected. As an example of such an error, the quantum version of the correlated errors we saw in the previous chapter has been observed in superconducting qubits, and necessitates improvements beyond quantum error correction to the quantum processor itself (see ref [McEwen et al (2021)](https://arxiv.org/pdf/2104.05219)).\n",
    "\n",
    "The kinds of errors that we will consider can generally be modeled as:\n",
    "- An arbitrary single-qubit gate following an intended gate,\n",
    "- An arbitrary single-qubit gate preceding a measurement, and\n",
    "- An arbitrary single-qubit gate following a well-defined initial qubit state.\n",
    "- An arbitrary two-qubit gate following a two-qubit gate,\n",
    "\n",
    "An arbitrary single-qubit gate $G_1$ can be decomposed as a sum of the identity $I$ and Pauli matrices $X$, $Y$ and $Z$:\n",
    "\n",
    "$G_1 = a\\cdot I + b\\cdot X $ + $c \\cdot Y$ + $d \\cdot Z$.\n",
    "\n",
    "Recalling that the Pauli $Y = iXZ$, the above can be written down as\n",
    "\n",
    "$G_1 = a\\cdot I + b\\cdot X $ + $ci \\cdot XZ$ + $d \\cdot Z$.\n",
    "\n",
    "Similarly, a two-qubit gate can be decomposed into the terms that look like $\\left(I_1, X_1, Z_1, X_1Z_1\\right)\\otimes \\left(I_2, X_2, Z_2, X_2Z_2\\right)$, which contains 16 terms.\n",
    "\n",
    "Both decompositions highlight a key point about quantum error correction: if we can correct $X$ and $Z$ errors, every other error described above can also be corrected. For this reason, the remainder of our discussion will focus on addressing these two kinds of errors, known as bit flips (because $X\\vert0\\rangle = \\vert1\\rangle, X\\vert1\\rangle = \\vert0\\rangle$) and phase flips ($Z\\vert+\\rangle = \\vert-\\rangle, Z\\vert-\\rangle = \\vert+\\rangle$), respectively. The most natural extension of the repetition code that we have seen so far can only protect against one type at a time, and we will eventually need to find a way to address both at the same time. The next chapter on surface codes will show how to do this, but for now let's first build intuition by building the quantum repetition code from scratch and analyzing it."
   ]
  },
  {
   "cell_type": "markdown",
   "id": "b92e6524-3337-41ba-99f7-73cf677dd7c5",
   "metadata": {},
   "source": [
    "---\n",
    "### Version History\n",
    "v0: Sep 12, 2025, [github/@aasfaw](https:github.com/aasfaw)"
   ]
  }
 ],
 "metadata": {
  "kernelspec": {
   "display_name": "Python 3 (ipykernel)",
   "language": "python",
   "name": "python3"
  },
  "language_info": {
   "codemirror_mode": {
    "name": "ipython",
    "version": 3
   },
   "file_extension": ".py",
   "mimetype": "text/x-python",
   "name": "python",
   "nbconvert_exporter": "python",
   "pygments_lexer": "ipython3",
   "version": "3.13.7"
  }
 },
 "nbformat": 4,
 "nbformat_minor": 5
}
