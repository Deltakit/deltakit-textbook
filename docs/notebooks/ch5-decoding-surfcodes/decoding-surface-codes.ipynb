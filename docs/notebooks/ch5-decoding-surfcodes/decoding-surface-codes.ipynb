{
 "cells": [
  {
   "cell_type": "markdown",
   "id": "3168a295",
   "metadata": {},
   "source": [
    "# <font color='green'>The decoding problem for surface codes</font>"
   ]
  },
  {
   "cell_type": "markdown",
   "id": "8af63314",
   "metadata": {},
   "source": [
    "In the previous chapters, we observed the effect of different kinds of errors ($X$, $Y$, $Z$) on the data qubits of a surface code. These errors can occur during idling or when gates are applied. Also, measurement errors can happen on the ancilla qubits during syndrome extraction.\n",
    "\n",
    "After a round of syndrome extraction, we have a set of stabilizers whose measurement outcomes may have flipped. These flipped outcomes are known as syndrome defects. Recall that stabilizers only inform whether an error has occurred—not where it has occurred. Given this information, the primary job of the decoder is to figure out which errors could have led to the observed syndrome defects -- with this information, we can apply the appropriate corrections to fix the error without introducing a logical error.\n",
    "\n",
    "We have encountered a 1D version of the minimum-weight perfect matching (MWPM) decoder in our analysis of repetition codes. In that setting, the decoding problem was also 1D, as the generated syndromes are laid out in a 1D chain. It is important to mention that in realistic experiments, we repeatedly measure the stabilizers. The measurement errors between consecutive rounds create syndrome defects in time. Therefore, the decoding graph in the case of repetition codes becomes 2D: space (1D qubits) + time (1D). Similarly, in a realistic setting, the decoding problem of surface codes becomes 3D: space (2D qubits) + time (1D).\n",
    "\n",
    "So, the actual decoding problem involves matching across space and time to correct for physical and measurement errors, respectively."
   ]
  },
  {
   "cell_type": "markdown",
   "id": "003e3efe",
   "metadata": {},
   "source": [
    "<details>\n",
    "  <summary><i>Mathematical description of the general minimum-weight perfect matching problem</i></summary>\n",
    "\n",
    "Let $G = \\{V_{\\textrm{G}},E_{\\textrm{G}}, W_{\\textrm{G}}\\}$ be a weighted graph, where:\n",
    "1. $v_{i}\\in V_{\\textrm{G}}$ is the set of vertices.\n",
    "2. $e_{ij}\\in E_{\\textrm{G}}$ is the set of edges, such that $i\\ne j$.\n",
    "3. $w_{ij}\\in W_{\\textrm{G}}$ is the set of weights assigned to each edge.\n",
    "\n",
    "Each vertex $v \\in V$ represents a detector node, and each edge $e \\in E$ represents an error mechanism that flips the set of detectors. Recall that the detectors correspond to the rows, and errors correspond to the columns of the check matrix $H$.\n",
    "\n",
    "If every vertex of the graph is incident on exactly one edge, it is called a perfect matching, $M$. In other words, $M \\subset E_{\\textrm{G}}$ such that each vertex is matched uniquely, i.e., no common endpoints.\n",
    "\n",
    "The weight of $M$ is : \n",
    "$\\sum_{e\\in M} w_{e}$. \n",
    "\n",
    "The minimum-weight perfect matching implies the smallest possible weight among all the possible perfect matchings.\n",
    "\n",
    "</details>\n"
   ]
  },
  {
   "cell_type": "markdown",
   "id": "6020e298",
   "metadata": {},
   "source": [
    "## <font color='blue'>MWPM for the surface code</font>"
   ]
  },
  {
   "cell_type": "markdown",
   "id": "bc5eca07",
   "metadata": {},
   "source": [
    "In the 2D grid layout of the surface code, a $Z$ or $X$ error on a data qubit lights up two syndromes (two nearby ancillas). Therefore, the matching graph contains two subgraphs: the $X$-matching graph and the $Z$-matching graph.\n",
    "\n",
    "In each subgraph, the edges represent specific data qubits. The nodes represent associated check/syndrome qubits. We assume all data qubits undergo Pauli errors ($X, Y, Z$) with equal probability. However, for a depolarizing noise model, we can have $Y$ errors, which can be decomposed into $X$ and $Z$ errors. This implies that a data qubit with a $Y$ error would light up four syndromes, which corresponds to a hyperedge.\n",
    "\n",
    "For the surface code, we have two parity check matrices: $H_X$ and $H_Z$ for $X$-checks and $Z$-checks, respectively. The columns of the parity check matrix correspond to data qubits, and the rows correspond to checks (stabilizers), such that $H_{ij}=1$ if check $i$ acts on data qubit $j$, and zero otherwise. Then, the mathematical form of the decoding problem described above is as follows:\n",
    "\n",
    "Consider an error vector $\\mathbf{e}$, such that an error on qubit $j$ implies $e_j = 1$. Then, $\\mathbf{s} = \\mathbf{H} \\cdot \\mathbf{e}^T$. Solving this equation tells us which stabilizers $\\mathbf{s}$ flipped due to $\\mathbf{e}$."
   ]
  },
  {
   "cell_type": "markdown",
   "id": "fe6e3f5c",
   "metadata": {},
   "source": [
    "## <font color='blue'>Procedure for decoding the surface code</font>"
   ]
  },
  {
   "cell_type": "markdown",
   "id": "c5ba9ed5",
   "metadata": {},
   "source": [
    "The general procedure that we will follow for decoding surface codes with the MWPM algorithm is then:\n",
    "\n",
    "1. Get the syndrome bit strings from the recent round of syndrome extraction circuit.\n",
    "2. Collect all the non-trivial syndromes (ancilla qubits that flipped since the last measurement round).\n",
    "3. Build a weighted graph (decoding graph) where edges represent the possible error paths.\n",
    "4. Find the smallest weight edges that connect syndrome pairs — MWPM.\n",
    "5. Apply corrections corresponding to the most likely error configuration for each matched syndrome pair (in hardware or software)."
   ]
  },
  {
   "cell_type": "markdown",
   "id": "973bef70-b9a6-4611-b48d-b1e61e10e92d",
   "metadata": {},
   "source": [
    "Once the decoding algorithm maps the lit-up syndromes (stabilizer outcomes) to physical qubit errors, this information is then used to calculate the logical error probability, $p_{\\textrm{L}}$. Put simply, $p_{\\textrm{L}}$ is the rate at which the decoder fails to correct an error. \n",
    "\n",
    "In our discussion on repetition codes, we have already seen this logical error probability plotted as a function of the physical error probability $p$. For smaller values of $p$, $p_{\\textrm{L}}$ is small and decreases as the code distance increases. For larger values of $p$, $p_{\\textrm{L}}$ is larger and beyond a certain error rate continues to grow as the code distance increases.\n",
    "\n",
    "This critical value of $p$ where the effect of an increase in code distance transitions from reducing $p_L$ to increasing it is known as the threshold value, $p_{\\textrm{th}}$.\n",
    "\n",
    "For $p\\lt p_{\\textrm{th}}$, $p_{\\textrm{L}} \\sim p^{(d+1)/2}$.\n",
    "\n",
    "Now that we have established the intuition behind the code threshold, we will proceed to simulate surface codes to measure the threshold error probability."
   ]
  },
  {
   "cell_type": "markdown",
   "id": "3238f6ce",
   "metadata": {},
   "source": [
    "### <font color='red'>Additional reading on decoding surface codes</font>\n",
    "\n",
    "- [Sparse Blossom Algorithm](https://arxiv.org/abs/2303.15933)\n",
    "- [Decoding algorithms for surface code](https://arxiv.org/abs/2307.14989)\n",
    "- [Surface codes: Towards practical large-scale quantum computation](https://arxiv.org/abs/1208.0928)"
   ]
  },
  {
   "cell_type": "markdown",
   "id": "4c9cf2a8-3b95-45c7-b5bb-4b75a306789c",
   "metadata": {},
   "source": [
    "---\n",
    "### Version History\n",
    "- v0: Aug 14, 2025, [github/@ESMatekole](https:github.com/esmatekole)\n",
    "- v1: Sep 12, 2025, [github/@aasfaw](https:github.com/aasfaw)"
   ]
  }
 ],
 "metadata": {
  "kernelspec": {
   "display_name": "deltakit-textbook",
   "language": "python",
   "name": "deltakit-textbook"
  },
  "language_info": {
   "codemirror_mode": {
    "name": "ipython",
    "version": 3
   },
   "file_extension": ".py",
   "mimetype": "text/x-python",
   "name": "python",
   "nbconvert_exporter": "python",
   "pygments_lexer": "ipython3",
   "version": "3.13.7"
  }
 },
 "nbformat": 4,
 "nbformat_minor": 5
}
