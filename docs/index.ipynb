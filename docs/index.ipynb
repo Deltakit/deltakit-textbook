{
 "cells": [
  {
   "cell_type": "markdown",
   "id": "dc3c8796-14ab-4d6d-9e85-6c28db138fff",
   "metadata": {},
   "source": [
    "```{toctree}\n",
    ":caption: Deltakit Textbook\n",
    ":hidden:\n",
    ":maxdepth: 1\n",
    "notebooks/classical-intuition\n",
    "notebooks/correctable-errors\n",
    "notebooks/bit-flip-repetition-codes\n",
    "notebooks/phase-flip-repetition-codes\n",
    "notebooks/shor-code\n",
    "```"
   ]
  },
  {
   "cell_type": "markdown",
   "id": "291c1574-8dbc-4f8e-a126-f8222818dc04",
   "metadata": {},
   "source": [
    "# Deltakit Textbook\n",
    "Welcome! The Deltakit Textbook aims to be a hands-on introduction to quantum error correction concepts coupled with practical examples for exploring error-correcting codes. Written by the __[Riverlane](https://riverlane.com)__ team and friends."
   ]
  },
  {
   "cell_type": "code",
   "execution_count": 1,
   "id": "c32c7b00-463c-436a-ae27-ad25a87438df",
   "metadata": {
    "editable": true,
    "slideshow": {
     "slide_type": ""
    },
    "tags": [
     "remove-input"
    ]
   },
   "outputs": [],
   "source": [
    "import random\n",
    "import numpy as np\n",
    "import matplotlib.pyplot as plotter; plotter.rcParams['font.family'] = 'Monospace'\n",
    "import holoviews as hv\n",
    "from holoviews import opts\n",
    "import gc\n",
    "from joblib import Parallel, delayed\n",
    "import itertools\n",
    "import time\n",
    "import warnings; warnings.filterwarnings('ignore')\n",
    "import panel as pn"
   ]
  },
  {
   "cell_type": "code",
   "execution_count": 2,
   "id": "2920b029-3afe-48e2-bf5d-8304b8081fcb",
   "metadata": {
    "editable": true,
    "slideshow": {
     "slide_type": ""
    },
    "tags": [
     "remove-input"
    ]
   },
   "outputs": [],
   "source": [
    "def get_code_error_probability_chunked(code_distance, p_error, n_shots=1000000000, chunk_size=None):\n",
    "    \"\"\"\n",
    "    Memory-efficient vectorized error probability computation for very large n_shots\n",
    "    Processes data in chunks to avoid memory overflow.\n",
    "    \n",
    "    Params:\n",
    "    - code_distance: number of copies of each bit\n",
    "    - p_error: probability of bit flip error  \n",
    "    - n_shots: total number of trials (can be billions)\n",
    "    - chunk_size: size of each chunk (auto-calculated if None based on 8GB RAM available per thread)\n",
    "    \n",
    "    Returns:\n",
    "    - Probability of code error after majority voting\n",
    "    \"\"\"\n",
    "    # Auto-calculate optimal chunk size based on code distance\n",
    "    if chunk_size is None:\n",
    "        # Assume 8GB available per worker, use 70% to be safe\n",
    "        available_gb = 5.6\n",
    "        # Each element needs ~10 bytes per code_distance (really 8 bytes, but 10 to be safe)\n",
    "        chunk_size = int((available_gb * 1e9) / (code_distance * 10))\n",
    "        # Cap at 100M for practical reasons\n",
    "        chunk_size = min(chunk_size, 100_000_000)\n",
    "        # Floor at 1M for efficiency\n",
    "        chunk_size = max(chunk_size, 1_000_000)\n",
    "    total_errors = 0\n",
    "    n_chunks = (n_shots + chunk_size - 1) // chunk_size\n",
    "    \n",
    "    for chunk_idx in range(n_chunks):\n",
    "        # Calculate actual size of this chunk\n",
    "        start_idx = chunk_idx * chunk_size\n",
    "        end_idx = min(start_idx + chunk_size, n_shots)\n",
    "        current_chunk_size = end_idx - start_idx\n",
    "        \n",
    "        # Generate random desired messages for this chunk\n",
    "        desired_messages = np.random.randint(0, 2, size=current_chunk_size)\n",
    "        \n",
    "        # Encode: replicate each bit code_distance times\n",
    "        encoded_messages = np.repeat(desired_messages[:, np.newaxis], code_distance, axis=1)\n",
    "        \n",
    "        # Send: simulate bit flip errors\n",
    "        error_mask = np.random.random((current_chunk_size, code_distance)) <= p_error\n",
    "        sent_messages = encoded_messages ^ error_mask\n",
    "        \n",
    "        # Receive and interpret: majority voting\n",
    "        received_messages = (np.sum(sent_messages, axis=1) > code_distance // 2).astype(int)\n",
    "        \n",
    "        # Accumulate errors\n",
    "        total_errors += np.sum(received_messages != desired_messages)\n",
    "        \n",
    "        # Clean up memory explicitly for large arrays\n",
    "        del encoded_messages, error_mask, sent_messages\n",
    "        gc.collect()  # Force garbage collection\n",
    "    \n",
    "    return total_errors / n_shots\n",
    "\n",
    "def simulate_all_parallel_joblib(code_distances, p_errors, n_shots=1000000000, n_workers=-1):\n",
    "    \"\"\"\n",
    "    Parallelized version using joblib - works better in Jupyter notebooks.\n",
    "    \n",
    "    Parameters:\n",
    "    - code_distances: array of code distances to test\n",
    "    - p_errors: array of error probabilities to test\n",
    "    - n_shots: total number of trials\n",
    "    - n_workers: number of parallel workers (default -1 = all cores, use 8 for M2 Max)\n",
    "    \n",
    "    Returns:\n",
    "    - 2D array of error probabilities\n",
    "    \"\"\"        \n",
    "    # Create all parameter combinations\n",
    "    params = list(itertools.product(enumerate(code_distances), enumerate(p_errors)))\n",
    "    \n",
    "    def process_one(i, code_distance, j, p_error):\n",
    "        \"\"\"Process a single configuration.\"\"\"\n",
    "        result = get_code_error_probability_chunked(code_distance, p_error, n_shots)\n",
    "        # print(f\"Completed: distance={code_distance}, p_error={p_error:.2e}\")\n",
    "        return i, j, result\n",
    "    \n",
    "    # Run in parallel\n",
    "    # print(f\"Processing {len(params)} configurations with {n_workers} workers...\")\n",
    "    results_list = Parallel(n_jobs=n_workers, verbose=0)(\n",
    "        delayed(process_one)(i, cd, j, pe) \n",
    "        for (i, cd), (j, pe) in params\n",
    "    )\n",
    "    \n",
    "    # Convert to array\n",
    "    results = np.zeros((len(code_distances), len(p_errors)))\n",
    "    for i, j, error_prob in results_list:\n",
    "        results[i, j] = error_prob\n",
    "        \n",
    "    return results\n",
    "\n",
    "def get_all_code_distance_error_probabilities(code_distances, p_errors, n_shots = int(1e5), n_workers = 8):\n",
    "\n",
    "    # Set random seed for reproducibility\n",
    "    np.random.seed(42)    \n",
    "    # Run the simulation\n",
    "    print(\"\\nStarting simulation...\")\n",
    "    start_time = time.time()\n",
    "    \n",
    "    all_code_distance_error_probabilities = simulate_all_parallel_joblib(\n",
    "        code_distances, p_errors, n_shots, n_workers = n_workers\n",
    "    )\n",
    "    \n",
    "    elapsed_time = time.time() - start_time\n",
    "    print(f\"\\nCompleted in {elapsed_time:.1f} seconds ({elapsed_time/60:.1f} minutes)\")\n",
    "\n",
    "    return all_code_distance_error_probabilities"
   ]
  },
  {
   "cell_type": "code",
   "execution_count": 3,
   "id": "13989516-65a9-4087-a190-4f246a81c8d2",
   "metadata": {
    "editable": true,
    "slideshow": {
     "slide_type": ""
    },
    "tags": [
     "remove-input"
    ]
   },
   "outputs": [],
   "source": [
    "# # Define parameters\n",
    "# code_distances = np.arange(start=1, stop=13+1, step=2)  # [1, 3, 5, 7, 9, 11, 13]\n",
    "# p_errors = np.logspace(start=-4, stop=0, num=30)\n",
    "# n_shots = int(10e9)\n",
    "# # timing results on @aasfaw's setup:\n",
    "# # 2.6min = 154.8 sec for 3 code distances (1,3,5) x 10 p_errors = 30 tasks @ 1B shots\n",
    "# # 10.8min = 649.6 sec for [1, 3, 5, 7, 9, 11, 13, 15] and p_errors = np.logspace(start=-4, stop=0, num=8) @ 1B shots\n",
    "# # 16.5min = 991.5 sec for [1, 3, 5, 7, 9, 11, 13] and p_errors = np.logspace(start=-4, stop=0, num=16) @ 1B shots\n",
    "# # 19147.4 seconds (319.1 minutes) for [1, 3, 5, 7, 9, 11, 13] and p_errors = np.logspace(start=-4, stop=0, num=30) @ 10B shots\n",
    "# all_code_distance_error_probabilities = get_all_code_distance_error_probabilities(\n",
    "#     code_distances, p_errors, n_shots, n_workers = 8\n",
    "# )\n",
    "\n",
    "# all_code_distance_error_probabilities"
   ]
  },
  {
   "cell_type": "code",
   "execution_count": 4,
   "id": "c6c8e60f-39c4-4335-a253-8f334c2e6f00",
   "metadata": {
    "editable": true,
    "slideshow": {
     "slide_type": ""
    },
    "tags": [
     "remove-input"
    ]
   },
   "outputs": [],
   "source": [
    "code_distances = np.arange(start=1, stop=13+1, step=2)  # [1, 3, 5, 7, 9, 11, 13]\n",
    "p_errors = np.logspace(start=-4, stop=0, num=30)\n",
    "n_shots = int(10e9)\n",
    "all_code_distance_error_probabilities = np.array([\n",
    "       [1.00224800e-04, 1.37220800e-04, 1.88818200e-04, 2.59368300e-04,\n",
    "        3.56366700e-04, 4.89594500e-04, 6.72640700e-04, 9.23620100e-04,\n",
    "        1.26926130e-03, 1.74385830e-03, 2.39514170e-03, 3.29111660e-03,\n",
    "        4.52104890e-03, 6.21076090e-03, 8.53202910e-03, 1.17207624e-02,\n",
    "        1.61019089e-02, 2.21226835e-02, 3.03893631e-02, 4.17537898e-02,\n",
    "        5.73642351e-02, 7.88039882e-02, 1.08261661e-01, 1.48737734e-01,\n",
    "        2.04339182e-01, 2.80726070e-01, 3.85657868e-01, 5.29831517e-01,\n",
    "        7.27900771e-01, 1.00000000e+00],\n",
    "       [3.19000000e-08, 5.47000000e-08, 1.11500000e-07, 2.01400000e-07,\n",
    "        3.77800000e-07, 7.29500000e-07, 1.35580000e-06, 2.54730000e-06,\n",
    "        4.83650000e-06, 9.13270000e-06, 1.72040000e-05, 3.23873000e-05,\n",
    "        6.10403000e-05, 1.15188100e-04, 2.17199300e-04, 4.09051400e-04,\n",
    "        7.70234500e-04, 1.44706360e-03, 2.71532110e-03, 5.08557730e-03,\n",
    "        9.49414120e-03, 1.76531258e-02, 3.26241373e-02, 5.97846597e-02,\n",
    "        1.08195915e-01, 1.92170273e-01, 3.31483634e-01, 5.44696503e-01,\n",
    "        8.18175202e-01, 1.00000000e+00],\n",
    "       [0.00000000e+00, 1.00000000e-10, 1.00000000e-10, 3.00000000e-10,\n",
    "        4.00000000e-10, 9.00000000e-10, 3.60000000e-09, 7.80000000e-09,\n",
    "        2.01000000e-08, 5.13000000e-08, 1.34800000e-07, 3.59500000e-07,\n",
    "        9.16400000e-07, 2.40240000e-06, 6.07330000e-06, 1.58274000e-05,\n",
    "        4.07032000e-05, 1.04657300e-04, 2.68443900e-04, 6.83090900e-04,\n",
    "        1.72841590e-03, 4.33386610e-03, 1.07150086e-02, 2.59984527e-02,\n",
    "        6.13064962e-02, 1.38529098e-01, 2.92974138e-01, 5.55797666e-01,\n",
    "        8.71807184e-01, 1.00000000e+00],\n",
    "       [0.00000000e+00, 0.00000000e+00, 0.00000000e+00, 0.00000000e+00,\n",
    "        0.00000000e+00, 0.00000000e+00, 0.00000000e+00, 1.00000000e-10,\n",
    "        0.00000000e+00, 7.00000000e-10, 1.60000000e-09, 4.60000000e-09,\n",
    "        1.63000000e-08, 5.22000000e-08, 1.82300000e-07, 6.42300000e-07,\n",
    "        2.25510000e-06, 7.93200000e-06, 2.77510000e-05, 9.62417000e-05,\n",
    "        3.29115500e-04, 1.11054520e-03, 3.66778780e-03, 1.17424735e-02,\n",
    "        3.58918002e-02, 1.02428009e-01, 2.62554364e-01, 5.65018437e-01,\n",
    "        9.07227003e-01, 1.00000000e+00],\n",
    "       [0.00000000e+00, 0.00000000e+00, 0.00000000e+00, 0.00000000e+00,\n",
    "        0.00000000e+00, 0.00000000e+00, 0.00000000e+00, 0.00000000e+00,\n",
    "        0.00000000e+00, 0.00000000e+00, 0.00000000e+00, 0.00000000e+00,\n",
    "        2.00000000e-10, 9.00000000e-10, 5.30000000e-09, 2.75000000e-08,\n",
    "        1.29300000e-07, 6.16900000e-07, 2.93580000e-06, 1.38104000e-05,\n",
    "        6.44188000e-05, 2.91999600e-04, 1.28574960e-03, 5.42106410e-03,\n",
    "        2.14307489e-02, 7.69138459e-02, 2.37335579e-01, 5.73062631e-01,\n",
    "        9.31776310e-01, 1.00000000e+00],\n",
    "       [0.00000000e+00, 0.00000000e+00, 0.00000000e+00, 0.00000000e+00,\n",
    "        0.00000000e+00, 0.00000000e+00, 0.00000000e+00, 0.00000000e+00,\n",
    "        0.00000000e+00, 0.00000000e+00, 0.00000000e+00, 1.00000000e-10,\n",
    "        0.00000000e+00, 1.00000000e-10, 1.00000000e-10, 6.00000000e-10,\n",
    "        6.50000000e-09, 4.90000000e-08, 3.27800000e-07, 2.07520000e-06,\n",
    "        1.27446000e-05, 7.80407000e-05, 4.58145200e-04, 2.54045140e-03,\n",
    "        1.29672814e-02, 5.83651598e-02, 2.15825908e-01, 5.80274960e-01,\n",
    "        9.49282824e-01, 1.00000000e+00],\n",
    "       [0.00000000e+00, 0.00000000e+00, 0.00000000e+00, 0.00000000e+00,\n",
    "        0.00000000e+00, 0.00000000e+00, 0.00000000e+00, 0.00000000e+00,\n",
    "        0.00000000e+00, 0.00000000e+00, 0.00000000e+00, 0.00000000e+00,\n",
    "        0.00000000e+00, 0.00000000e+00, 0.00000000e+00, 1.00000000e-10,\n",
    "        4.00000000e-10, 2.80000000e-09, 3.21000000e-08, 2.97800000e-07,\n",
    "        2.59080000e-06, 2.12313000e-05, 1.65217800e-04, 1.20353250e-03,\n",
    "        7.92018700e-03, 4.46323790e-02, 1.97134026e-01, 5.86866920e-01,\n",
    "        9.61994430e-01, 1.00000000e+00]])"
   ]
  },
  {
   "cell_type": "code",
   "execution_count": null,
   "id": "3f6565ac-bf3f-46cd-95fd-905d6efe214e",
   "metadata": {
    "editable": true,
    "slideshow": {
     "slide_type": ""
    },
    "tags": [
     "remove-input"
    ]
   },
   "outputs": [],
   "source": [
    "def error_probabilities_for_code_distance(code_distance):\n",
    "    error_probabilities = all_code_distance_error_probabilities[code_distances.tolist().index(code_distance)]  \n",
    "    return hv.Curve((\n",
    "        p_errors,\n",
    "        error_probabilities \n",
    "    )).opts(\n",
    "        xlabel=\"Per-bit error probability\",\n",
    "        ylabel=\"Message error probability\",\n",
    "        logx=True,\n",
    "        logy=True,\n",
    "        marker='o',\n",
    "        ylim=(1e-9, 1.1),\n",
    "        xlim=(1e-9, 1.1),\n",
    "        backend_opts={\"axes.patch.edgecolor\": 'black', \"axes.patch.linewidth\": 1},\n",
    "        fig_size = 135,\n",
    "        title = '',\n",
    "        show_grid=True\n",
    "    ) * hv.Curve((\n",
    "        np.linspace(start = 1e-9, stop = 1.1, num = 30),\n",
    "        np.linspace(start = 1e-9, stop = 1.1, num = 30)\n",
    "    )).opts(\n",
    "        opts.Curve(color='black', linewidth=1),\n",
    "    ) * hv.Text(24e-8, 60e-8, 'y = x (no error correction)', rotation = 45, fontsize = 8)\n",
    "\n",
    "hv.extension('matplotlib')\n",
    "plot_and_slider = hv.HoloMap(\n",
    "    {\n",
    "        code_distance: error_probabilities_for_code_distance(code_distance) for code_distance in code_distances\n",
    "    },\n",
    "    kdims=[\"Repetition Count (Code Distance)\"],\n",
    ")"
   ]
  },
  {
   "cell_type": "markdown",
   "id": "4e65de87-a32f-4753-b370-4c95e9b8da0b",
   "metadata": {},
   "source": [
    "```{raw} html\n",
    "<style>\n",
    ".explanation-text {\n",
    "    font-family: Monospace;\n",
    "    font-size: 12px;\n",
    "    line-height: 1.3;\n",
    "    color: #333;\n",
    "    padding-right: 20px;\n",
    "    padding-top: 50px;\n",
    "}\n",
    "</style>\n",
    "```"
   ]
  },
  {
   "cell_type": "markdown",
   "id": "e1d14d2b-6566-46ee-8180-cfed0545ec6a",
   "metadata": {},
   "source": [
    "```{raw} html\n",
    "<div style=\"display: flex; align-items: start; gap: 30px;\">\n",
    "    <div class=\"explanation-text\" style=\"flex: 0 0 35%;\">\n",
    "        <p>Imagine two parties (a sender and a receiver) communicating across a noisy channel. The sender transmits one bit (0 or 1) of information at a time, and the receiver gets each of those bits on the other side, but the noisy channel flips some of them from 0 to 1 (or vice versa). To overcome the errors caused by the noisy channel, they agree on the simplest error-correcting protocol: let's repeat the same message multiple times. The receiver then takes a majority vote of all the repeated bits to determine what the original message was. In error correction terminology, the two parties are communicating using a repetition code, with code distance equal to the number of times the message is repeated.</p>\n",
    "        \n",
    "        <p>The interactive plot to the right demonstrates what happens when a sender wants to transmit messages across a noisy channel which corrupts each transmitted bit independently with the probability on the x-axis. If the two parties communicate by sending the same message multiple times (toggle the slider next to the plot to choose this repetition count), the probability that the receiver misinterprets the message drops sharply. As the repetition count increases, the error correction becomes more powerful, especially when the per-bit error probability is below a threshold that you can also see in the plot.</p>\n",
    "    </div>\n",
    "    <div style=\"flex: 1;\">\n",
    "```"
   ]
  },
  {
   "cell_type": "code",
   "execution_count": null,
   "id": "8a46daf3-fb0a-4c2f-bb15-bc2d61baf2df",
   "metadata": {
    "editable": true,
    "slideshow": {
     "slide_type": ""
    },
    "tags": [
     "remove-input"
    ]
   },
   "outputs": [],
   "source": [
    "plot_and_slider"
   ]
  },
  {
   "cell_type": "markdown",
   "id": "72011ce2-8886-4362-84a3-c4611f824691",
   "metadata": {},
   "source": [
    "```{raw} html\n",
    "    </div>\n",
    "</div>\n",
    "```"
   ]
  },
  {
   "cell_type": "markdown",
   "id": "b7a81886-bdc0-4e28-a57c-08e5eded8c3c",
   "metadata": {
    "editable": true,
    "slideshow": {
     "slide_type": ""
    },
    "tags": []
   },
   "source": [
    "## Contents\n",
    "\n",
    "### __Developing intuition for quantum error correction__\n",
    "<ul>\n",
    "  <li>Motivation for quantum error correction</li>\n",
    "  <li><a href=\"classical-intuition.html\">Lessons from classical error correction</a></li>\n",
    "  <li>Majority vote vs parity checks</li>\n",
    "</ul>\n",
    "\n",
    "### __From classical to quantum repetition codes__\n",
    "<ul>\n",
    "  <li><a href=\"correctable-errors.html\">Correctable errors</a></li>\n",
    "  <li><a href=\"bit-flip-repetition-codes.html\">Building the bit-flip quantum repetition code from scratch</a></li>\n",
    "  <li><a href=\"phase-flip-repetition-codes.html\">Retooling the bit-flip quantum repetition code to handle phase errors</a></li>\n",
    "  <li><a href=\"shor-code.html\">Combining bit-flip and phase-flip repetition codes: Shor's 9-qubit code</a></li>\n",
    "</ul>\n",
    "\n",
    "### __From repetition codes to surface codes__\n",
    "<ul>\n",
    "  <li>Introduction to surface codes</li>\n",
    "    <li>Layout of unrotated surface code with stabilizers</li>\n",
    "    <li>Syndrome extraction cycle with noise and logical operators</li>\n",
    "    <li>Overview of the QEC cycle and introduction to Stim</li>\n",
    "</ul>\n",
    "\n",
    "### __Decoding surface codes__\n",
    "<ul>\n",
    "  <li>Introduction to minimum weight perfect matching</li>\n",
    "  <li>Threshold theorem</li>\n",
    "  <li>Simulating surface code in stim</li>\n",
    "</ul>"
   ]
  }
 ],
 "metadata": {
  "kernelspec": {
   "display_name": "deltakit-textbook",
   "language": "python",
   "name": "deltakit-textbook"
  },
  "language_info": {
   "codemirror_mode": {
    "name": "ipython",
    "version": 3
   },
   "file_extension": ".py",
   "mimetype": "text/x-python",
   "name": "python",
   "nbconvert_exporter": "python",
   "pygments_lexer": "ipython3",
   "version": "3.13.5"
  },
  "nteract": {
   "version": "0.28.0"
  }
 },
 "nbformat": 4,
 "nbformat_minor": 5
}
